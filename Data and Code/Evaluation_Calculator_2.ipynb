{
 "cells": [
  {
   "cell_type": "markdown",
   "metadata": {},
   "source": [
    "# This file is to calculate all the MSE/MAE values after denormalization, the store and compare them"
   ]
  },
  {
   "cell_type": "code",
   "execution_count": 1,
   "metadata": {},
   "outputs": [],
   "source": [
    "import os\n",
    "import pandas as pd\n",
    "import numpy as np\n",
    "import matplotlib.pyplot as plt\n",
    "import sys\n",
    "from sklearn.metrics import mean_squared_error, mean_absolute_error\n"
   ]
  },
  {
   "cell_type": "markdown",
   "metadata": {},
   "source": [
    "## Calculate result from CNN"
   ]
  },
  {
   "cell_type": "code",
   "execution_count": 2,
   "metadata": {},
   "outputs": [],
   "source": [
    "CNN_path = './Data/Prediction/CNN/'\n",
    "\n",
    "# stock_example = pd.read_csv(path + 'Data/Grouped/Consumer and Service Sectors/ALL.AX.csv')\n",
    "def read_stock(path, file_name):\n",
    "    stock = pd.read_csv(path + file_name, header = [0])\n",
    "    stock_index = pd.to_datetime(stock['Date'])\n",
    "    stock.index = stock_index\n",
    "    stock = stock.drop('Date', axis = 1)\n",
    "    return stock\n",
    "group = ['Consumer and Service Sectors', 'Financial, Healthcare, Technology, and Utilities Sectors', 'Industrial and Infrastructure Sectors']\n",
    "index = [0, 1, 2]\n",
    "def read_all(the_path):\n",
    "    All_df = []\n",
    "    files = [f for f in os.listdir(the_path) if f.endswith('.csv')]\n",
    "\n",
    "    for name in files:\n",
    "        stock = read_stock(the_path + '/', name)\n",
    "        All_df.append(stock)\n",
    "    return All_df, files\n",
    "\n",
    "CNN_All_df_0, CNN_files_0 = read_all(CNN_path + group[index[0]])"
   ]
  },
  {
   "cell_type": "code",
   "execution_count": 3,
   "metadata": {},
   "outputs": [],
   "source": [
    "stock_example = CNN_All_df_0[0]"
   ]
  },
  {
   "cell_type": "code",
   "execution_count": 4,
   "metadata": {},
   "outputs": [],
   "source": [
    "def obtain_MSE_MAE_CNN(stock_result):\n",
    "    length = len(stock_result)\n",
    "    train_length = length - 252\n",
    "    test_length = 252\n",
    "    stock_train = stock_result[ :train_length]\n",
    "    stock_test = stock_result[train_length: ]\n",
    "    train_MSE = mean_squared_error(stock_train.iloc[:, 0], stock_train.iloc[:, 1])\n",
    "    train_MAE = mean_absolute_error(stock_train.iloc[:, 0], stock_train.iloc[:, 1])\n",
    "    test_MSE = mean_squared_error(stock_test.iloc[:, 0], stock_test.iloc[:, 1])\n",
    "    test_MAE = mean_absolute_error(stock_test.iloc[:, 0], stock_test.iloc[:, 1])\n",
    "\n",
    "    print('train_MSE:', train_MSE, '; train_MAE:', train_MAE)\n",
    "    print('test_MSE:', test_MSE, '; test_MAE:', test_MAE)\n",
    "\n",
    "    return train_MSE, train_MAE, test_MSE, test_MAE"
   ]
  },
  {
   "cell_type": "code",
   "execution_count": 5,
   "metadata": {},
   "outputs": [
    {
     "name": "stdout",
     "output_type": "stream",
     "text": [
      "train_MSE: 2.7424938653869573 ; train_MAE: 1.2433112462290412\n",
      "test_MSE: 0.6463609202012328 ; test_MAE: 0.6432877544669373\n"
     ]
    }
   ],
   "source": [
    "train_MSE, train_MAE, test_MSE, test_MAE = obtain_MSE_MAE_CNN(stock_example)"
   ]
  },
  {
   "cell_type": "code",
   "execution_count": 6,
   "metadata": {},
   "outputs": [],
   "source": [
    "def obtain_MSE_MAE_CNN_All(the_index):\n",
    "    CNN_All_df, CNN_files = read_all(CNN_path + group[index[the_index]])\n",
    "    length = len(CNN_All_df)\n",
    "    store_path = './Data/MAE_MSE/0.9997/252/CNN/'\n",
    "    stock_index_name = []\n",
    "    for i in range(length):\n",
    "        stock_index_name.append(CNN_files[i][:-4])\n",
    "\n",
    "    metric_columns = ['train_MSE', 'train_MAE', 'test_MSE', 'test_MAE']\n",
    "    result_df = pd.DataFrame(0, index = stock_index_name, columns = metric_columns)\n",
    "\n",
    "    for i in range(length):\n",
    "        stock = CNN_All_df[i]\n",
    "        train_MSE, train_MAE, test_MSE, test_MAE = obtain_MSE_MAE_CNN(stock)\n",
    "        result_df.iloc[i, 0] = train_MSE\n",
    "        result_df.iloc[i, 1] = train_MAE\n",
    "        result_df.iloc[i, 2] = test_MSE\n",
    "        result_df.iloc[i, 3] = test_MAE\n",
    "    \n",
    "    result_df.to_csv(store_path + group[index[the_index]] + '.csv')"
   ]
  },
  {
   "cell_type": "code",
   "execution_count": 7,
   "metadata": {},
   "outputs": [
    {
     "name": "stdout",
     "output_type": "stream",
     "text": [
      "train_MSE: 2.7424938653869573 ; train_MAE: 1.2433112462290412\n",
      "test_MSE: 0.6463609202012328 ; test_MAE: 0.6432877544669373\n",
      "train_MSE: 64.28201277854333 ; train_MAE: 6.660214641807241\n",
      "test_MSE: 11.086018396748 ; test_MAE: 2.509225177293702\n",
      "train_MSE: 0.011448231627738543 ; train_MAE: 0.08707828730171141\n",
      "test_MSE: 0.0207335073604946 ; test_MAE: 0.1373219473584516\n",
      "train_MSE: 0.04086543236429301 ; train_MAE: 0.14260003734327353\n",
      "test_MSE: 0.04367288477188061 ; test_MAE: 0.17786719354238714\n",
      "train_MSE: 6.024346540565737 ; train_MAE: 2.0408164113653466\n",
      "test_MSE: 2.3730543476540173 ; test_MAE: 1.363712298757316\n",
      "train_MSE: 1.429099256477297 ; train_MAE: 0.9768823847781547\n",
      "test_MSE: 0.35559687697293085 ; test_MAE: 0.48494596490935343\n"
     ]
    }
   ],
   "source": [
    "obtain_MSE_MAE_CNN_All(0)"
   ]
  },
  {
   "cell_type": "code",
   "execution_count": 8,
   "metadata": {},
   "outputs": [
    {
     "name": "stdout",
     "output_type": "stream",
     "text": [
      "train_MSE: 0.7290456347449523 ; train_MAE: 0.6173241465746623\n",
      "test_MSE: 0.2161422775396783 ; test_MAE: 0.3818998608434109\n",
      "train_MSE: 0.04487273900790514 ; train_MAE: 0.1615156322535839\n",
      "test_MSE: 0.18542467993558331 ; test_MAE: 0.38229376935820514\n",
      "train_MSE: 6.4004748703286305 ; train_MAE: 1.9755963246342552\n",
      "test_MSE: 3.095239986850566 ; test_MAE: 1.384595614328448\n",
      "train_MSE: 13.215333931244167 ; train_MAE: 2.8896874525966547\n",
      "test_MSE: 36.19767049133426 ; test_MAE: 5.672183221635673\n",
      "train_MSE: 31.050744675277162 ; train_MAE: 4.285416284975742\n",
      "test_MSE: 20.034228351027085 ; test_MAE: 3.451108311006359\n",
      "train_MSE: 0.4203634504046729 ; train_MAE: 0.4515896217867165\n",
      "test_MSE: 1.985875840189452 ; test_MAE: 1.3354271800280777\n",
      "train_MSE: 129.6152565478666 ; train_MAE: 9.474318436543724\n",
      "test_MSE: 56.582086249186226 ; test_MAE: 6.4470165750554385\n",
      "train_MSE: 3.620462915615126 ; train_MAE: 1.7042296181222394\n",
      "test_MSE: 0.4206746296812038 ; test_MAE: 0.5234143149529379\n",
      "train_MSE: 1.3196300491505972 ; train_MAE: 0.9094879630305625\n",
      "test_MSE: 0.769403268163705 ; test_MAE: 0.7143153401125094\n",
      "train_MSE: 0.08286434451480434 ; train_MAE: 0.25385141656069954\n",
      "test_MSE: 0.05935099193990932 ; test_MAE: 0.21955539554669104\n",
      "train_MSE: 46.699181571799684 ; train_MAE: 4.917959124254314\n",
      "test_MSE: 97.77409926361422 ; test_MAE: 8.960074960235845\n",
      "train_MSE: 0.6948114866259114 ; train_MAE: 0.5989448441748494\n",
      "test_MSE: 2.7395039252642164 ; test_MAE: 1.5670258346094963\n",
      "train_MSE: 0.12379398763198277 ; train_MAE: 0.2764955994725664\n",
      "test_MSE: 0.3812627363099958 ; test_MAE: 0.5271990365820192\n",
      "train_MSE: 2.6218896184746994 ; train_MAE: 1.2481398200471527\n",
      "test_MSE: 4.202442663262755 ; test_MAE: 1.382845686725148\n",
      "train_MSE: 3.8250040348986256 ; train_MAE: 1.574191634726401\n",
      "test_MSE: 3.5294080029782746 ; test_MAE: 1.7213350278749602\n",
      "train_MSE: 0.015373867461895813 ; train_MAE: 0.09903462652875097\n",
      "test_MSE: 0.002210639101668346 ; test_MAE: 0.03654050937801428\n",
      "train_MSE: 0.015584741380473818 ; train_MAE: 0.10136395807696848\n",
      "test_MSE: 0.004205446795223939 ; test_MAE: 0.049949825408843296\n",
      "train_MSE: 2.4236324245883467 ; train_MAE: 1.246856577828694\n",
      "test_MSE: 0.9385666210637555 ; test_MAE: 0.7500618619574849\n",
      "train_MSE: 0.11735141724684583 ; train_MAE: 0.26661512743641735\n",
      "test_MSE: 0.07194899449672996 ; test_MAE: 0.2094994468865801\n",
      "train_MSE: 0.5429993263243295 ; train_MAE: 0.5348910526452846\n",
      "test_MSE: 0.15178772726246542 ; test_MAE: 0.3259935083012599\n",
      "train_MSE: 7.952424592455215 ; train_MAE: 1.9714556606286233\n",
      "test_MSE: 31.245556719573237 ; test_MAE: 5.080674215705858\n",
      "train_MSE: 94.58281206820229 ; train_MAE: 8.180461871145182\n",
      "test_MSE: 9.721324510700212 ; test_MAE: 2.481533240043665\n"
     ]
    }
   ],
   "source": [
    "obtain_MSE_MAE_CNN_All(1)"
   ]
  },
  {
   "cell_type": "code",
   "execution_count": 9,
   "metadata": {},
   "outputs": [
    {
     "name": "stdout",
     "output_type": "stream",
     "text": [
      "train_MSE: 0.053302304161479686 ; train_MAE: 0.17667880244108558\n",
      "test_MSE: 0.018893643801970623 ; test_MAE: 0.10662237515436872\n",
      "train_MSE: 2.291992695402951 ; train_MAE: 1.1700073831432343\n",
      "test_MSE: 6.376698226296525 ; test_MAE: 2.174080601382997\n",
      "train_MSE: 0.047904333744678215 ; train_MAE: 0.16559523824664615\n",
      "test_MSE: 0.09084189025999735 ; test_MAE: 0.236797322692236\n",
      "train_MSE: 2.022266198329051 ; train_MAE: 1.2185920043853176\n",
      "test_MSE: 4.841345362750406 ; test_MAE: 2.0514863203701674\n",
      "train_MSE: 0.3327170387792108 ; train_MAE: 0.40678521233590603\n",
      "test_MSE: 2.6049000231477764 ; test_MAE: 1.5030283888173663\n",
      "train_MSE: 10.184218511474278 ; train_MAE: 2.5674970991921366\n",
      "test_MSE: 1.6495837757257217 ; test_MAE: 0.9600498264423147\n",
      "train_MSE: 13.103792303964862 ; train_MAE: 2.9985399885910495\n",
      "test_MSE: 115.48695059809698 ; test_MAE: 9.970500298133203\n",
      "train_MSE: 1.0846610264609085 ; train_MAE: 0.8131446541611916\n",
      "test_MSE: 1.5828219859640085 ; test_MAE: 1.0204732538880619\n",
      "train_MSE: 0.39495433856549134 ; train_MAE: 0.4910645738920391\n",
      "test_MSE: 0.24410351460235974 ; test_MAE: 0.4124683009687452\n",
      "train_MSE: 0.09271671320895591 ; train_MAE: 0.24922684981591772\n",
      "test_MSE: 0.09882050638791509 ; test_MAE: 0.22673231015777578\n",
      "train_MSE: 0.043319135346313035 ; train_MAE: 0.14652971028707593\n",
      "test_MSE: 0.4455698417606204 ; test_MAE: 0.6027894090658485\n",
      "train_MSE: 0.04510996196390764 ; train_MAE: 0.15795224120206985\n",
      "test_MSE: 0.04608304417675825 ; test_MAE: 0.1756920473372919\n",
      "train_MSE: 1.5644759927461565 ; train_MAE: 0.9663316503140195\n",
      "test_MSE: 0.19896012589547657 ; test_MAE: 0.36804878302463373\n",
      "train_MSE: 15.600118767736667 ; train_MAE: 3.0633884881592612\n",
      "test_MSE: 21.18563545400445 ; test_MAE: 3.6932342887381573\n",
      "train_MSE: 0.025737487623172163 ; train_MAE: 0.11978955773136071\n",
      "test_MSE: 0.06651890843244099 ; test_MAE: 0.2228519502428521\n",
      "train_MSE: 1.5266451883547174 ; train_MAE: 0.9933916969797701\n",
      "test_MSE: 0.42276078421771335 ; test_MAE: 0.5466850567461475\n",
      "train_MSE: 0.05120773029558402 ; train_MAE: 0.1668880777460132\n",
      "test_MSE: 0.07034226692537 ; test_MAE: 0.22452227311425682\n",
      "train_MSE: 0.13205425383133992 ; train_MAE: 0.2846349317855855\n",
      "test_MSE: 0.06815831125064215 ; test_MAE: 0.22694497670508382\n",
      "train_MSE: 1.2926240938595672 ; train_MAE: 0.9530465302020065\n",
      "test_MSE: 4.774520226106804 ; test_MAE: 1.9717924105200266\n"
     ]
    }
   ],
   "source": [
    "obtain_MSE_MAE_CNN_All(2)"
   ]
  },
  {
   "cell_type": "markdown",
   "metadata": {},
   "source": [
    "## Calculate result from SSA-CNN"
   ]
  },
  {
   "cell_type": "code",
   "execution_count": 10,
   "metadata": {},
   "outputs": [],
   "source": [
    "SSA_CNN_path = './Data/Parameter_tuning_0.9997/252_Prediction/SSA-CNN/'\n",
    "\n",
    "# stock_example = pd.read_csv(path + 'Data/Grouped/Consumer and Service Sectors/ALL.AX.csv')\n",
    "def read_stock(path, file_name):\n",
    "    stock = pd.read_csv(path + file_name, header = [0])\n",
    "    stock_index = pd.to_datetime(stock['Date'])\n",
    "    stock.index = stock_index\n",
    "    stock = stock.drop('Date', axis = 1)\n",
    "    return stock\n",
    "group = ['Consumer and Service Sectors', 'Financial, Healthcare, Technology, and Utilities Sectors', 'Industrial and Infrastructure Sectors']\n",
    "index = [0, 1, 2]\n",
    "def read_all(the_path):\n",
    "    All_df = []\n",
    "    files = [f for f in os.listdir(the_path) if f.endswith('.csv')]\n",
    "\n",
    "    for name in files:\n",
    "        stock = read_stock(the_path + '/', name)\n",
    "        All_df.append(stock)\n",
    "    return All_df, files\n",
    "\n",
    "SSA_CNN_All_df_0, SSA_CNN_files_0 = read_all(SSA_CNN_path + group[index[0]])"
   ]
  },
  {
   "cell_type": "code",
   "execution_count": 11,
   "metadata": {},
   "outputs": [],
   "source": [
    "stock_example = SSA_CNN_All_df_0[0]"
   ]
  },
  {
   "cell_type": "code",
   "execution_count": 12,
   "metadata": {},
   "outputs": [],
   "source": [
    "def obtain_MSE_MAE_SSA_CNN(stock_result):\n",
    "    length = len(stock_result)\n",
    "    train_length = length - 252\n",
    "    test_length = 252\n",
    "    stock_train = stock_result[ :train_length]\n",
    "    stock_test = stock_result[train_length: ]\n",
    "    train_MSE = mean_squared_error(stock_train.iloc[:, 0], stock_train.iloc[:, 2])\n",
    "    train_MAE = mean_absolute_error(stock_train.iloc[:, 0], stock_train.iloc[:, 2])\n",
    "    test_MSE = mean_squared_error(stock_test.iloc[:, 0], stock_test.iloc[:, 2])\n",
    "    test_MAE = mean_absolute_error(stock_test.iloc[:, 0], stock_test.iloc[:, 2])\n",
    "\n",
    "    print('train_MSE:', train_MSE, '; train_MAE:', train_MAE)\n",
    "    print('test_MSE:', test_MSE, '; test_MAE:', test_MAE)\n",
    "\n",
    "    return train_MSE, train_MAE, test_MSE, test_MAE"
   ]
  },
  {
   "cell_type": "code",
   "execution_count": 13,
   "metadata": {},
   "outputs": [
    {
     "name": "stdout",
     "output_type": "stream",
     "text": [
      "train_MSE: 0.25160841839434417 ; train_MAE: 0.3758202780151124\n",
      "test_MSE: 0.6363177538678654 ; test_MAE: 0.6271248868457886\n"
     ]
    }
   ],
   "source": [
    "train_MSE, train_MAE, test_MSE, test_MAE = obtain_MSE_MAE_SSA_CNN(stock_example)"
   ]
  },
  {
   "cell_type": "code",
   "execution_count": 14,
   "metadata": {},
   "outputs": [],
   "source": [
    "def obtain_MSE_MAE_SSA_CNN_All(the_index):\n",
    "    SSA_CNN_All_df, SSA_CNN_files = read_all(SSA_CNN_path + group[index[the_index]])\n",
    "    length = len(SSA_CNN_All_df)\n",
    "    store_path = './Data/MAE_MSE/0.9997/252/SSA-CNN/'\n",
    "    stock_index_name = []\n",
    "    for i in range(length):\n",
    "        stock_index_name.append(SSA_CNN_files[i][:-4])\n",
    "\n",
    "    metric_columns = ['train_MSE', 'train_MAE', 'test_MSE', 'test_MAE']\n",
    "    result_df = pd.DataFrame(0, index = stock_index_name, columns = metric_columns)\n",
    "\n",
    "    for i in range(length):\n",
    "        stock = SSA_CNN_All_df[i]\n",
    "        train_MSE, train_MAE, test_MSE, test_MAE = obtain_MSE_MAE_SSA_CNN(stock)\n",
    "        result_df.iloc[i, 0] = train_MSE\n",
    "        result_df.iloc[i, 1] = train_MAE\n",
    "        result_df.iloc[i, 2] = test_MSE\n",
    "        result_df.iloc[i, 3] = test_MAE\n",
    "    \n",
    "    result_df.to_csv(store_path + group[index[the_index]] + '.csv')"
   ]
  },
  {
   "cell_type": "code",
   "execution_count": 15,
   "metadata": {},
   "outputs": [
    {
     "name": "stdout",
     "output_type": "stream",
     "text": [
      "train_MSE: 0.25160841839434417 ; train_MAE: 0.3758202780151124\n",
      "test_MSE: 0.6363177538678654 ; test_MAE: 0.6271248868457886\n",
      "train_MSE: 3.5554736130789206 ; train_MAE: 1.3951885421342483\n",
      "test_MSE: 15.025573515389478 ; test_MAE: 2.9940598318774483\n",
      "train_MSE: 0.002773759843371362 ; train_MAE: 0.040465489015840704\n",
      "test_MSE: 0.003954095007061893 ; test_MAE: 0.05147593753779733\n",
      "train_MSE: 0.010780202857816529 ; train_MAE: 0.07293205869142753\n",
      "test_MSE: 0.012839285746324442 ; test_MAE: 0.08049110125228555\n",
      "train_MSE: 0.3955069979480144 ; train_MAE: 0.46238031385967276\n",
      "test_MSE: 1.4449147648556442 ; test_MAE: 0.9399675405491109\n",
      "train_MSE: 0.28667940300662575 ; train_MAE: 0.37708625720285593\n",
      "test_MSE: 0.4801654515031527 ; test_MAE: 0.5003463479086407\n"
     ]
    }
   ],
   "source": [
    "obtain_MSE_MAE_SSA_CNN_All(0)"
   ]
  },
  {
   "cell_type": "code",
   "execution_count": 16,
   "metadata": {},
   "outputs": [
    {
     "name": "stdout",
     "output_type": "stream",
     "text": [
      "train_MSE: 0.11657540426595239 ; train_MAE: 0.2598734728215933\n",
      "test_MSE: 0.34094990528550684 ; test_MAE: 0.4651289371541299\n",
      "train_MSE: 0.019238283463163596 ; train_MAE: 0.10199127811638484\n",
      "test_MSE: 0.051702716267320606 ; test_MAE: 0.18034897388970586\n",
      "train_MSE: 1.2772706914740866 ; train_MAE: 0.8554547491487736\n",
      "test_MSE: 3.4346230934890407 ; test_MAE: 1.4697730235787119\n",
      "train_MSE: 1.4371345146693242 ; train_MAE: 0.8980277081659902\n",
      "test_MSE: 5.627671842560819 ; test_MAE: 1.853629446781126\n",
      "train_MSE: 10.400875205869323 ; train_MAE: 2.363546199864217\n",
      "test_MSE: 19.75261820889921 ; test_MAE: 3.563438363792929\n",
      "train_MSE: 0.05864998370396716 ; train_MAE: 0.18257173445468655\n",
      "test_MSE: 0.6535240062246948 ; test_MAE: 0.5987942728188365\n",
      "train_MSE: 17.941356047648508 ; train_MAE: 3.1598147609269995\n",
      "test_MSE: 28.310070033976352 ; test_MAE: 4.206865467034385\n",
      "train_MSE: 0.13169692836412636 ; train_MAE: 0.25882257674794884\n",
      "test_MSE: 0.3038442811760795 ; test_MAE: 0.4288978414734105\n",
      "train_MSE: 0.06510387253942837 ; train_MAE: 0.18354385687058034\n",
      "test_MSE: 0.5340868193308733 ; test_MAE: 0.5465453934037137\n",
      "train_MSE: 0.008487137351208082 ; train_MAE: 0.06964630152489149\n",
      "test_MSE: 0.010540600071932643 ; test_MAE: 0.08175826862921515\n",
      "train_MSE: 3.69408065073473 ; train_MAE: 1.4377427001568712\n",
      "test_MSE: 24.719606788985367 ; test_MAE: 3.743519519096404\n",
      "train_MSE: 0.09976953279125127 ; train_MAE: 0.24052557183411502\n",
      "test_MSE: 0.4764669356652109 ; test_MAE: 0.5706874874446759\n",
      "train_MSE: 0.026687773292198406 ; train_MAE: 0.12195103638458411\n",
      "test_MSE: 0.0805418880378825 ; test_MAE: 0.21182582582120127\n",
      "train_MSE: 1.0146173168686967 ; train_MAE: 0.7575878316599592\n",
      "test_MSE: 4.937866856532979 ; test_MAE: 1.3174633364092279\n",
      "train_MSE: 0.15070293486827485 ; train_MAE: 0.2733070038660978\n",
      "test_MSE: 0.6198076995474281 ; test_MAE: 0.6115234326570024\n",
      "train_MSE: 0.001947314814960799 ; train_MAE: 0.03292823620567036\n",
      "test_MSE: 0.0037863012975686964 ; test_MAE: 0.04821484739013554\n",
      "train_MSE: 0.002667958042480431 ; train_MAE: 0.038383373770965366\n",
      "test_MSE: 0.0047939947298828054 ; test_MAE: 0.054581857304306196\n",
      "train_MSE: 0.20608343454152203 ; train_MAE: 0.3309353860899439\n",
      "test_MSE: 1.3735537459621936 ; test_MAE: 0.9418181478918545\n",
      "train_MSE: 0.02633213352304836 ; train_MAE: 0.12281183642496786\n",
      "test_MSE: 0.07027243958727349 ; test_MAE: 0.20524458473246493\n",
      "train_MSE: 0.10590180512142729 ; train_MAE: 0.24289278715497817\n",
      "test_MSE: 0.25652818841439523 ; test_MAE: 0.3978686051384638\n",
      "train_MSE: 0.2863946628005529 ; train_MAE: 0.38914802403658955\n",
      "test_MSE: 3.7649814370415156 ; test_MAE: 1.5087005371414537\n",
      "train_MSE: 2.646880816327903 ; train_MAE: 1.1491661632966759\n",
      "test_MSE: 11.77239461291916 ; test_MAE: 2.6714793003507866\n"
     ]
    }
   ],
   "source": [
    "obtain_MSE_MAE_SSA_CNN_All(1)"
   ]
  },
  {
   "cell_type": "code",
   "execution_count": 17,
   "metadata": {},
   "outputs": [
    {
     "name": "stdout",
     "output_type": "stream",
     "text": [
      "train_MSE: 0.011618871707553022 ; train_MAE: 0.07943026262854075\n",
      "test_MSE: 0.01673259680045489 ; test_MAE: 0.10036119222028758\n",
      "train_MSE: 0.26926204461519665 ; train_MAE: 0.38923711192562277\n",
      "test_MSE: 1.5487035939917626 ; test_MAE: 0.997040672310603\n",
      "train_MSE: 0.024893153385396813 ; train_MAE: 0.11706096864932745\n",
      "test_MSE: 0.07169165602502364 ; test_MAE: 0.2012126118365329\n",
      "train_MSE: 0.033242764448556485 ; train_MAE: 0.12777094980696846\n",
      "test_MSE: 0.3052304290874798 ; test_MAE: 0.41843132106334163\n",
      "train_MSE: 0.010320929536829277 ; train_MAE: 0.07557975851132287\n",
      "test_MSE: 0.25313997005477934 ; test_MAE: 0.3962728586862278\n",
      "train_MSE: 0.2740807959500201 ; train_MAE: 0.38700845848301985\n",
      "test_MSE: 1.4943137286801083 ; test_MAE: 0.9663601568574779\n",
      "train_MSE: 0.24742209414715566 ; train_MAE: 0.348404418711754\n",
      "test_MSE: 6.7552613105786765 ; test_MAE: 2.0346205107232187\n",
      "train_MSE: 0.15775396371110043 ; train_MAE: 0.2938801605764746\n",
      "test_MSE: 0.2625467329871285 ; test_MAE: 0.41132963850720666\n",
      "train_MSE: 0.03178980183924077 ; train_MAE: 0.12964034627583118\n",
      "test_MSE: 0.06930274646889206 ; test_MAE: 0.20786697165195334\n",
      "train_MSE: 0.007971387578464486 ; train_MAE: 0.06758104368712321\n",
      "test_MSE: 0.05569622199435219 ; test_MAE: 0.14904837465052698\n",
      "train_MSE: 0.0012995712884373049 ; train_MAE: 0.02129604074828596\n",
      "test_MSE: 0.029529826672888754 ; test_MAE: 0.1337724408414664\n",
      "train_MSE: 0.007026580852370435 ; train_MAE: 0.06404404138846341\n",
      "test_MSE: 0.024333475108207606 ; test_MAE: 0.11795846302794312\n",
      "train_MSE: 0.05386599418183784 ; train_MAE: 0.16343045966858002\n",
      "test_MSE: 0.27447735024449077 ; test_MAE: 0.40556920384270556\n",
      "train_MSE: 2.273174607607101 ; train_MAE: 1.1319846696719957\n",
      "test_MSE: 8.286553504346314 ; test_MAE: 2.215373917553249\n",
      "train_MSE: 0.002118127180404829 ; train_MAE: 0.035034945839257925\n",
      "test_MSE: 0.01826273007336477 ; test_MAE: 0.10613711186435269\n",
      "train_MSE: 0.15579672271049763 ; train_MAE: 0.2916592544187952\n",
      "test_MSE: 0.2694880833178764 ; test_MAE: 0.4036502317042906\n",
      "train_MSE: 0.009519035601682336 ; train_MAE: 0.0731590684715742\n",
      "test_MSE: 0.02638492858684605 ; test_MAE: 0.12519399032434061\n",
      "train_MSE: 0.03359434895178812 ; train_MAE: 0.1284544311055183\n",
      "test_MSE: 0.039898653183905626 ; test_MAE: 0.16286695007545995\n",
      "train_MSE: 0.1561835227177723 ; train_MAE: 0.3007461216266014\n",
      "test_MSE: 0.9875965078952904 ; test_MAE: 0.7727754231617338\n"
     ]
    }
   ],
   "source": [
    "obtain_MSE_MAE_SSA_CNN_All(2)"
   ]
  },
  {
   "cell_type": "markdown",
   "metadata": {},
   "source": [
    "## Calculate result from SSA-LSTM"
   ]
  },
  {
   "cell_type": "code",
   "execution_count": 18,
   "metadata": {},
   "outputs": [],
   "source": [
    "SSA_LSTM_path = './Data/Parameter_tuning_0.9997/252_Prediction/SSA-LSTM/'\n",
    "\n",
    "def obtain_MSE_MAE_SSA_LSTM(stock_result):\n",
    "    length = len(stock_result)\n",
    "    train_length = length - 252\n",
    "    test_length = 252\n",
    "    stock_train = stock_result[ :train_length]\n",
    "    stock_test = stock_result[train_length: ]\n",
    "    train_MSE = mean_squared_error(stock_train.iloc[:, 0], stock_train.iloc[:, 2])\n",
    "    train_MAE = mean_absolute_error(stock_train.iloc[:, 0], stock_train.iloc[:, 2])\n",
    "    test_MSE = mean_squared_error(stock_test.iloc[:, 0], stock_test.iloc[:, 2])\n",
    "    test_MAE = mean_absolute_error(stock_test.iloc[:, 0], stock_test.iloc[:, 2])\n",
    "\n",
    "    print('train_MSE:', train_MSE, '; train_MAE:', train_MAE)\n",
    "    print('test_MSE:', test_MSE, '; test_MAE:', test_MAE)\n",
    "\n",
    "    return train_MSE, train_MAE, test_MSE, test_MAE\n",
    "\n",
    "def obtain_MSE_MAE_SSA_LSTM_All(the_index):\n",
    "    SSA_LSTM_All_df, SSA_LSTM_files = read_all(SSA_LSTM_path + group[index[the_index]])\n",
    "    length = len(SSA_LSTM_All_df)\n",
    "    store_path = './Data/MAE_MSE/0.9997/252/SSA-LSTM/'\n",
    "    stock_index_name = []\n",
    "    for i in range(length):\n",
    "        stock_index_name.append(SSA_LSTM_files[i][:-4])\n",
    "\n",
    "    metric_columns = ['train_MSE', 'train_MAE', 'test_MSE', 'test_MAE']\n",
    "    result_df = pd.DataFrame(0, index = stock_index_name, columns = metric_columns)\n",
    "\n",
    "    for i in range(length):\n",
    "        stock = SSA_LSTM_All_df[i]\n",
    "        train_MSE, train_MAE, test_MSE, test_MAE = obtain_MSE_MAE_SSA_LSTM(stock)\n",
    "        result_df.iloc[i, 0] = train_MSE\n",
    "        result_df.iloc[i, 1] = train_MAE\n",
    "        result_df.iloc[i, 2] = test_MSE\n",
    "        result_df.iloc[i, 3] = test_MAE\n",
    "    \n",
    "    result_df.to_csv(store_path + group[index[the_index]] + '.csv')"
   ]
  },
  {
   "cell_type": "code",
   "execution_count": 19,
   "metadata": {},
   "outputs": [
    {
     "name": "stdout",
     "output_type": "stream",
     "text": [
      "train_MSE: 0.46663579842327807 ; train_MAE: 0.5218551109540279\n",
      "test_MSE: 0.9400404492485702 ; test_MAE: 0.7478067122127988\n",
      "train_MSE: 5.145335319901714 ; train_MAE: 1.6600290204137804\n",
      "test_MSE: 27.961800210814644 ; test_MAE: 4.11256918774293\n",
      "train_MSE: 0.003578845321082001 ; train_MAE: 0.04577174186980609\n",
      "test_MSE: 0.005386244679156134 ; test_MAE: 0.058865593312174856\n",
      "train_MSE: 0.016396648278463544 ; train_MAE: 0.09155757734750303\n",
      "test_MSE: 0.02553983780963035 ; test_MAE: 0.1191457709312834\n",
      "train_MSE: 0.5591929519080029 ; train_MAE: 0.57204306711739\n",
      "test_MSE: 1.5834878634036245 ; test_MAE: 0.9662412780024937\n",
      "train_MSE: 0.3105311504217465 ; train_MAE: 0.39744002868461753\n",
      "test_MSE: 0.690997005138922 ; test_MAE: 0.6180709431275445\n"
     ]
    }
   ],
   "source": [
    "obtain_MSE_MAE_SSA_LSTM_All(0)"
   ]
  },
  {
   "cell_type": "code",
   "execution_count": 20,
   "metadata": {},
   "outputs": [
    {
     "name": "stdout",
     "output_type": "stream",
     "text": [
      "train_MSE: 0.15301728360489897 ; train_MAE: 0.2891649289094761\n",
      "test_MSE: 0.44832843029604963 ; test_MAE: 0.519196656153215\n",
      "train_MSE: 0.020787258614373354 ; train_MAE: 0.10484849717096575\n",
      "test_MSE: 0.10190526160383388 ; test_MAE: 0.2582649799367726\n",
      "train_MSE: 1.7297528422722608 ; train_MAE: 0.9913525902245088\n",
      "test_MSE: 5.279424688832455 ; test_MAE: 1.8458332484571918\n",
      "train_MSE: 1.945723165798024 ; train_MAE: 1.0316880250556006\n",
      "test_MSE: 7.047409640519775 ; test_MAE: 2.0716003556979548\n",
      "train_MSE: 13.305413971181181 ; train_MAE: 2.701614754822785\n",
      "test_MSE: 30.44900148179727 ; test_MAE: 4.435904922197279\n",
      "train_MSE: 0.0931684414183982 ; train_MAE: 0.21629831667900973\n",
      "test_MSE: 1.011982420891598 ; test_MAE: 0.7414617209962293\n",
      "train_MSE: 20.2595578527536 ; train_MAE: 3.368763208386612\n",
      "test_MSE: 35.103250069604364 ; test_MAE: 4.637893756266246\n",
      "train_MSE: 0.20471192329895926 ; train_MAE: 0.3386191134527388\n",
      "test_MSE: 0.6908003394691872 ; test_MAE: 0.6913864635444709\n",
      "train_MSE: 0.10079532417707518 ; train_MAE: 0.23214194014435216\n",
      "test_MSE: 0.7159087941334586 ; test_MAE: 0.635406382843797\n",
      "train_MSE: 0.010078285006970888 ; train_MAE: 0.07760266100867842\n",
      "test_MSE: 0.014906822960931525 ; test_MAE: 0.09808701237381882\n",
      "train_MSE: 4.392542586247731 ; train_MAE: 1.5395647236853667\n",
      "test_MSE: 32.08872844467506 ; test_MAE: 4.22373783320827\n",
      "train_MSE: 0.13921795560156874 ; train_MAE: 0.2709292939450218\n",
      "test_MSE: 0.6003182634016451 ; test_MAE: 0.6249237598558921\n",
      "train_MSE: 0.03454588602449899 ; train_MAE: 0.13787709684360916\n",
      "test_MSE: 0.16553276828093796 ; test_MAE: 0.303379305354966\n",
      "train_MSE: 1.1376955643583972 ; train_MAE: 0.7980837392764825\n",
      "test_MSE: 6.106645431326185 ; test_MAE: 1.49237006294166\n",
      "train_MSE: 0.25391366452981734 ; train_MAE: 0.3712589527163354\n",
      "test_MSE: 0.9710255705820227 ; test_MAE: 0.7811438725003\n",
      "train_MSE: 0.0028977436568269357 ; train_MAE: 0.039185417292084745\n",
      "test_MSE: 0.005763764057990591 ; test_MAE: 0.06071761272668051\n",
      "train_MSE: 0.004052820764816509 ; train_MAE: 0.04538436191373384\n",
      "test_MSE: 0.010329033754353362 ; test_MAE: 0.08060346146246243\n",
      "train_MSE: 0.25519710435428095 ; train_MAE: 0.36516468218232934\n",
      "test_MSE: 1.4973243627292285 ; test_MAE: 0.9787725431259309\n",
      "train_MSE: 0.03206808736900399 ; train_MAE: 0.1330368610219657\n",
      "test_MSE: 0.09785665763678084 ; test_MAE: 0.23989160753685523\n",
      "train_MSE: 0.16576847305631884 ; train_MAE: 0.2948281696046838\n",
      "test_MSE: 0.402967496703055 ; test_MAE: 0.4525126450421098\n",
      "train_MSE: 0.8536892978341264 ; train_MAE: 0.6817036801007962\n",
      "test_MSE: 3.0048420365130544 ; test_MAE: 1.3228652224047373\n",
      "train_MSE: 4.5636096780714235 ; train_MAE: 1.5232581819256106\n",
      "test_MSE: 17.525748121963158 ; test_MAE: 3.2869409504730425\n"
     ]
    }
   ],
   "source": [
    "obtain_MSE_MAE_SSA_LSTM_All(1)"
   ]
  },
  {
   "cell_type": "code",
   "execution_count": 21,
   "metadata": {},
   "outputs": [
    {
     "name": "stdout",
     "output_type": "stream",
     "text": [
      "train_MSE: 0.017155871601909452 ; train_MAE: 0.0939455267726834\n",
      "test_MSE: 0.025944950669538065 ; test_MAE: 0.12197594736711201\n",
      "train_MSE: 0.34598322427737394 ; train_MAE: 0.44318009742911574\n",
      "test_MSE: 2.4538740388583284 ; test_MAE: 1.2318476247314603\n",
      "train_MSE: 0.027792749265642 ; train_MAE: 0.12550974163826054\n",
      "test_MSE: 0.12406405222098539 ; test_MAE: 0.26370148040810787\n",
      "train_MSE: 0.10825382629670585 ; train_MAE: 0.25867778339960007\n",
      "test_MSE: 0.47636056121779224 ; test_MAE: 0.535977142145001\n",
      "train_MSE: 0.0193861405540486 ; train_MAE: 0.09841844775300292\n",
      "test_MSE: 0.2965372022475112 ; test_MAE: 0.43013640922878754\n",
      "train_MSE: 0.5396883439599769 ; train_MAE: 0.5521943092949358\n",
      "test_MSE: 2.5029441537690156 ; test_MAE: 1.2358715124296227\n",
      "train_MSE: 0.7070114826401785 ; train_MAE: 0.5768190243485383\n",
      "test_MSE: 7.8119191949757925 ; test_MAE: 2.1633152212480398\n",
      "train_MSE: 0.24369068178055692 ; train_MAE: 0.35960907014522037\n",
      "test_MSE: 0.530554377271798 ; test_MAE: 0.5953053156553298\n",
      "train_MSE: 0.03594270140294794 ; train_MAE: 0.13906152816375242\n",
      "test_MSE: 0.06439152841165897 ; test_MAE: 0.20194757447183892\n",
      "train_MSE: 0.014116784718450782 ; train_MAE: 0.09171669667623565\n",
      "test_MSE: 0.0862569505987143 ; test_MAE: 0.19294944207788872\n",
      "train_MSE: 0.002084584594896724 ; train_MAE: 0.02907797208253037\n",
      "test_MSE: 0.040743735747418915 ; test_MAE: 0.16205175518531903\n",
      "train_MSE: 0.011490043520714994 ; train_MAE: 0.07929430465293391\n",
      "test_MSE: 0.04063464615784179 ; test_MAE: 0.15655458407510064\n",
      "train_MSE: 0.12172952813017708 ; train_MAE: 0.26195286021080216\n",
      "test_MSE: 0.3519839147478661 ; test_MAE: 0.4781222974133474\n",
      "train_MSE: 2.7009995680561225 ; train_MAE: 1.2419801613848493\n",
      "test_MSE: 12.545528715961574 ; test_MAE: 2.7552753980544646\n",
      "train_MSE: 0.004641490473330254 ; train_MAE: 0.05019778366124081\n",
      "test_MSE: 0.02771307480616147 ; test_MAE: 0.12697524022195664\n",
      "train_MSE: 0.23725941507125795 ; train_MAE: 0.3611393058843393\n",
      "test_MSE: 0.45154670841177463 ; test_MAE: 0.5228385550413799\n",
      "train_MSE: 0.017849998950532606 ; train_MAE: 0.0962720337088935\n",
      "test_MSE: 0.0449609659842058 ; test_MAE: 0.17053495852602601\n",
      "train_MSE: 0.04185907173523778 ; train_MAE: 0.1413279670416832\n",
      "test_MSE: 0.06744938058793395 ; test_MAE: 0.2070278193766099\n",
      "train_MSE: 0.2513597515356309 ; train_MAE: 0.3699919142325881\n",
      "test_MSE: 1.3326602219590589 ; test_MAE: 0.9117474390629334\n"
     ]
    }
   ],
   "source": [
    "obtain_MSE_MAE_SSA_LSTM_All(2)"
   ]
  },
  {
   "cell_type": "markdown",
   "metadata": {},
   "source": [
    "## Calculate result from SSA-CNN-LSTM"
   ]
  },
  {
   "cell_type": "code",
   "execution_count": 22,
   "metadata": {},
   "outputs": [],
   "source": [
    "SSA_CNN_LSTM_path = './Data/Parameter_tuning_0.9997/252_Prediction/SSA-CNN-LSTM/'\n",
    "\n",
    "def obtain_MSE_MAE_SSA_CNN_LSTM(stock_result):\n",
    "    length = len(stock_result)\n",
    "    train_length = length - 252\n",
    "    test_length = 252\n",
    "    stock_train = stock_result[ :train_length]\n",
    "    stock_test = stock_result[train_length: ]\n",
    "    train_MSE = mean_squared_error(stock_train.iloc[:, 0], stock_train.iloc[:, 2])\n",
    "    train_MAE = mean_absolute_error(stock_train.iloc[:, 0], stock_train.iloc[:, 2])\n",
    "    test_MSE = mean_squared_error(stock_test.iloc[:, 0], stock_test.iloc[:, 2])\n",
    "    test_MAE = mean_absolute_error(stock_test.iloc[:, 0], stock_test.iloc[:, 2])\n",
    "\n",
    "    print('train_MSE:', train_MSE, '; train_MAE:', train_MAE)\n",
    "    print('test_MSE:', test_MSE, '; test_MAE:', test_MAE)\n",
    "\n",
    "    return train_MSE, train_MAE, test_MSE, test_MAE\n",
    "\n",
    "def obtain_MSE_MAE_SSA_CNN_LSTM_All(the_index):\n",
    "    SSA_CNN_LSTM_All_df, SSA_CNN_LSTM_files = read_all(SSA_CNN_LSTM_path + group[index[the_index]])\n",
    "    length = len(SSA_CNN_LSTM_All_df)\n",
    "    store_path = './Data/MAE_MSE/0.9997/252/SSA-CNN-LSTM/'\n",
    "    stock_index_name = []\n",
    "    for i in range(length):\n",
    "        stock_index_name.append(SSA_CNN_LSTM_files[i][:-4])\n",
    "\n",
    "    metric_columns = ['train_MSE', 'train_MAE', 'test_MSE', 'test_MAE']\n",
    "    result_df = pd.DataFrame(0, index = stock_index_name, columns = metric_columns)\n",
    "\n",
    "    for i in range(length):\n",
    "        stock = SSA_CNN_LSTM_All_df[i]\n",
    "        train_MSE, train_MAE, test_MSE, test_MAE = obtain_MSE_MAE_SSA_CNN_LSTM(stock)\n",
    "        result_df.iloc[i, 0] = train_MSE\n",
    "        result_df.iloc[i, 1] = train_MAE\n",
    "        result_df.iloc[i, 2] = test_MSE\n",
    "        result_df.iloc[i, 3] = test_MAE\n",
    "    \n",
    "    result_df.to_csv(store_path + group[index[the_index]] + '.csv')"
   ]
  },
  {
   "cell_type": "code",
   "execution_count": 23,
   "metadata": {},
   "outputs": [
    {
     "name": "stdout",
     "output_type": "stream",
     "text": [
      "train_MSE: 0.5197677990260252 ; train_MAE: 0.5241510436778736\n",
      "test_MSE: 1.0162706517865676 ; test_MAE: 0.7849541865130305\n",
      "train_MSE: 7.340604590246399 ; train_MAE: 2.0046736204239286\n",
      "test_MSE: 21.09038947600296 ; test_MAE: 3.6119881181466864\n",
      "train_MSE: 0.00350878887740899 ; train_MAE: 0.04550630300601996\n",
      "test_MSE: 0.005637417490888894 ; test_MAE: 0.06331953283037554\n",
      "train_MSE: 0.01353024658629196 ; train_MAE: 0.08228878047969462\n",
      "test_MSE: 0.02006876319788027 ; test_MAE: 0.10367980972046907\n",
      "train_MSE: 0.5827283622679036 ; train_MAE: 0.5623633483515392\n",
      "test_MSE: 1.7195310251413707 ; test_MAE: 1.0324022748036639\n",
      "train_MSE: 0.3858516803864862 ; train_MAE: 0.44716620106554233\n",
      "test_MSE: 0.753305144346357 ; test_MAE: 0.6657011779603297\n"
     ]
    }
   ],
   "source": [
    "obtain_MSE_MAE_SSA_CNN_LSTM_All(0)"
   ]
  },
  {
   "cell_type": "code",
   "execution_count": 24,
   "metadata": {},
   "outputs": [
    {
     "name": "stdout",
     "output_type": "stream",
     "text": [
      "train_MSE: 0.19095166717251813 ; train_MAE: 0.3231783812405128\n",
      "test_MSE: 0.4706972979411219 ; test_MAE: 0.5393561925235085\n",
      "train_MSE: 0.02390280475375403 ; train_MAE: 0.11245131238990208\n",
      "test_MSE: 0.1652731965751059 ; test_MAE: 0.34145443472913745\n",
      "train_MSE: 1.648157906158902 ; train_MAE: 0.962611013036259\n",
      "test_MSE: 5.040587884606048 ; test_MAE: 1.7958553218328548\n",
      "train_MSE: 2.23184777263286 ; train_MAE: 1.0747592766698226\n",
      "test_MSE: 7.382166080896576 ; test_MAE: 2.0757734270141976\n",
      "train_MSE: 13.620994579245215 ; train_MAE: 2.7596357765660793\n",
      "test_MSE: 23.945472006892388 ; test_MAE: 3.821768511538339\n",
      "train_MSE: 0.11380489605804016 ; train_MAE: 0.23640122154535592\n",
      "test_MSE: 0.712907423312921 ; test_MAE: 0.6281129229200758\n",
      "train_MSE: 24.736530325372193 ; train_MAE: 3.817620063399078\n",
      "test_MSE: 40.7237302547438 ; test_MAE: 5.028417927396609\n",
      "train_MSE: 0.28251994165117045 ; train_MAE: 0.41730212270439243\n",
      "test_MSE: 0.3694376229735829 ; test_MAE: 0.48576689526627576\n",
      "train_MSE: 0.1139841891888708 ; train_MAE: 0.2505287613597882\n",
      "test_MSE: 0.6098821712869674 ; test_MAE: 0.6069936804998749\n",
      "train_MSE: 0.011865484602238302 ; train_MAE: 0.08241028565355317\n",
      "test_MSE: 0.014258073421616637 ; test_MAE: 0.09603463090609012\n",
      "train_MSE: 6.476049999051505 ; train_MAE: 1.8120730752105967\n",
      "test_MSE: 29.21818151837173 ; test_MAE: 4.046752738463369\n",
      "train_MSE: 0.18654273040569316 ; train_MAE: 0.3143874390274273\n",
      "test_MSE: 0.7126895436839686 ; test_MAE: 0.6639946892296323\n",
      "train_MSE: 0.04488736964572235 ; train_MAE: 0.15297313500927176\n",
      "test_MSE: 0.13694859437019827 ; test_MAE: 0.2750590346397418\n",
      "train_MSE: 1.3412164730551124 ; train_MAE: 0.8642670090627513\n",
      "test_MSE: 5.785464238717745 ; test_MAE: 1.4769269391747615\n",
      "train_MSE: 0.3022630149219861 ; train_MAE: 0.4171531430557016\n",
      "test_MSE: 0.8215885962290068 ; test_MAE: 0.7101186792460118\n",
      "train_MSE: 0.003999887705194133 ; train_MAE: 0.04481194895369739\n",
      "test_MSE: 0.005470424371947646 ; test_MAE: 0.05829500138284535\n",
      "train_MSE: 0.005411785356481639 ; train_MAE: 0.05019262666570973\n",
      "test_MSE: 0.006672624284736698 ; test_MAE: 0.0617374546993978\n",
      "train_MSE: 0.3273786775391734 ; train_MAE: 0.4252407359715414\n",
      "test_MSE: 1.420034734778269 ; test_MAE: 0.9476631975559064\n",
      "train_MSE: 0.03989318383414265 ; train_MAE: 0.1471055711868008\n",
      "test_MSE: 0.10247703342166577 ; test_MAE: 0.24897085200028976\n",
      "train_MSE: 0.17934161294583742 ; train_MAE: 0.30897903696958673\n",
      "test_MSE: 0.39474107145899284 ; test_MAE: 0.43639824668026717\n",
      "train_MSE: 0.7113110650724902 ; train_MAE: 0.5992742633278992\n",
      "test_MSE: 2.9780892260052196 ; test_MAE: 1.3035194235194008\n",
      "train_MSE: 7.402600722674191 ; train_MAE: 2.0528330492054647\n",
      "test_MSE: 12.492695150459095 ; test_MAE: 2.8158649469750308\n"
     ]
    }
   ],
   "source": [
    "obtain_MSE_MAE_SSA_CNN_LSTM_All(1)"
   ]
  },
  {
   "cell_type": "code",
   "execution_count": 25,
   "metadata": {},
   "outputs": [
    {
     "name": "stdout",
     "output_type": "stream",
     "text": [
      "train_MSE: 0.02157345620565154 ; train_MAE: 0.10334475319047948\n",
      "test_MSE: 0.02725551899073062 ; test_MAE: 0.12807173391902843\n",
      "train_MSE: 0.4648163646850903 ; train_MAE: 0.49874599532657565\n",
      "test_MSE: 2.206780690886385 ; test_MAE: 1.207604659390245\n",
      "train_MSE: 0.03203098584930079 ; train_MAE: 0.13463576270599723\n",
      "test_MSE: 0.12219013573544478 ; test_MAE: 0.2562787263510318\n",
      "train_MSE: 0.11114482772040447 ; train_MAE: 0.24976309549935236\n",
      "test_MSE: 0.3966126655301411 ; test_MAE: 0.4747719168352311\n",
      "train_MSE: 0.01792741448271619 ; train_MAE: 0.09627342936660731\n",
      "test_MSE: 0.2871197172887365 ; test_MAE: 0.42411729046830804\n",
      "train_MSE: 0.7170937927961474 ; train_MAE: 0.6408614740905013\n",
      "test_MSE: 2.156210300444726 ; test_MAE: 1.1133743169639505\n",
      "train_MSE: 0.995262117302252 ; train_MAE: 0.6751576888043087\n",
      "test_MSE: 11.369706577140768 ; test_MAE: 2.7453212394510182\n",
      "train_MSE: 0.31150875096012 ; train_MAE: 0.40580316658072496\n",
      "test_MSE: 0.4413380958035217 ; test_MAE: 0.5357750157740786\n",
      "train_MSE: 0.0589520065565224 ; train_MAE: 0.1752735974777279\n",
      "test_MSE: 0.07859372235482591 ; test_MAE: 0.22604970569291752\n"
     ]
    },
    {
     "name": "stdout",
     "output_type": "stream",
     "text": [
      "train_MSE: 0.017270810242705888 ; train_MAE: 0.09725047647885118\n",
      "test_MSE: 0.08107175761290573 ; test_MAE: 0.1903706288781173\n",
      "train_MSE: 0.0029662508234966235 ; train_MAE: 0.03402228283576836\n",
      "test_MSE: 0.032970724671803786 ; test_MAE: 0.1390993148904561\n",
      "train_MSE: 0.015950823653756347 ; train_MAE: 0.09076200359429548\n",
      "test_MSE: 0.03422724822424366 ; test_MAE: 0.14002427203134918\n",
      "train_MSE: 0.13731919030317838 ; train_MAE: 0.2516680591569149\n",
      "test_MSE: 0.31633552562226286 ; test_MAE: 0.4461560530281171\n",
      "train_MSE: 3.7707730185791397 ; train_MAE: 1.4698561384972346\n",
      "test_MSE: 12.150985562498654 ; test_MAE: 2.7648539372166807\n",
      "train_MSE: 0.0051937299305289345 ; train_MAE: 0.053941165722228165\n",
      "test_MSE: 0.03289428359384506 ; test_MAE: 0.14392014209285484\n",
      "train_MSE: 0.2989355928495889 ; train_MAE: 0.4038508127562398\n",
      "test_MSE: 0.42298925801342707 ; test_MAE: 0.5108644927494189\n",
      "train_MSE: 0.021927635430439622 ; train_MAE: 0.1024032304941678\n",
      "test_MSE: 0.03789037217616411 ; test_MAE: 0.14645017964707466\n",
      "train_MSE: 0.04556967564476415 ; train_MAE: 0.14654145443482433\n",
      "test_MSE: 0.059300863841299005 ; test_MAE: 0.19491711818214083\n",
      "train_MSE: 0.31572465798573307 ; train_MAE: 0.4182296412262483\n",
      "test_MSE: 1.5853137885887567 ; test_MAE: 1.0080868457852683\n"
     ]
    }
   ],
   "source": [
    "obtain_MSE_MAE_SSA_CNN_LSTM_All(2)"
   ]
  }
 ],
 "metadata": {
  "kernelspec": {
   "display_name": "Python 3",
   "language": "python",
   "name": "python3"
  },
  "language_info": {
   "codemirror_mode": {
    "name": "ipython",
    "version": 3
   },
   "file_extension": ".py",
   "mimetype": "text/x-python",
   "name": "python",
   "nbconvert_exporter": "python",
   "pygments_lexer": "ipython3",
   "version": "3.10.11"
  },
  "orig_nbformat": 4
 },
 "nbformat": 4,
 "nbformat_minor": 2
}
