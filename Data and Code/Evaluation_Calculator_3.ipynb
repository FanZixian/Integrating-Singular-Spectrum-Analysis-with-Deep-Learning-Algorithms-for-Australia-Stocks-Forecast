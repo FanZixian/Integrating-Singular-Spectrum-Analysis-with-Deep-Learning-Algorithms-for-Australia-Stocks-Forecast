{
 "cells": [
  {
   "cell_type": "markdown",
   "metadata": {},
   "source": [
    "# This file is to calculate all the MSE/MAE values after denormalization, the store and compare them"
   ]
  },
  {
   "cell_type": "code",
   "execution_count": 1,
   "metadata": {},
   "outputs": [],
   "source": [
    "import os\n",
    "import pandas as pd\n",
    "import numpy as np\n",
    "import matplotlib.pyplot as plt\n",
    "import sys\n",
    "from sklearn.metrics import mean_squared_error, mean_absolute_error\n"
   ]
  },
  {
   "cell_type": "markdown",
   "metadata": {},
   "source": [
    "## Calculate result from CNN"
   ]
  },
  {
   "cell_type": "code",
   "execution_count": 2,
   "metadata": {},
   "outputs": [],
   "source": [
    "CNN_path = './Data/Prediction/CNN/'\n",
    "\n",
    "# stock_example = pd.read_csv(path + 'Data/Grouped/Consumer and Service Sectors/ALL.AX.csv')\n",
    "def read_stock(path, file_name):\n",
    "    stock = pd.read_csv(path + file_name, header = [0])\n",
    "    stock_index = pd.to_datetime(stock['Date'])\n",
    "    stock.index = stock_index\n",
    "    stock = stock.drop('Date', axis = 1)\n",
    "    return stock\n",
    "group = ['Consumer and Service Sectors', 'Financial, Healthcare, Technology, and Utilities Sectors', 'Industrial and Infrastructure Sectors']\n",
    "index = [0, 1, 2]\n",
    "def read_all(the_path):\n",
    "    All_df = []\n",
    "    files = [f for f in os.listdir(the_path) if f.endswith('.csv')]\n",
    "\n",
    "    for name in files:\n",
    "        stock = read_stock(the_path + '/', name)\n",
    "        All_df.append(stock)\n",
    "    return All_df, files\n",
    "\n",
    "CNN_All_df_0, CNN_files_0 = read_all(CNN_path + group[index[0]])"
   ]
  },
  {
   "cell_type": "code",
   "execution_count": 3,
   "metadata": {},
   "outputs": [],
   "source": [
    "stock_example = CNN_All_df_0[0]"
   ]
  },
  {
   "cell_type": "code",
   "execution_count": 4,
   "metadata": {},
   "outputs": [],
   "source": [
    "def obtain_MSE_MAE_CNN(stock_result):\n",
    "    length = len(stock_result)\n",
    "    train_length = length - 252\n",
    "    test_length = 252\n",
    "    stock_train = stock_result[ :train_length]\n",
    "    stock_test = stock_result[train_length: ]\n",
    "    train_MSE = mean_squared_error(stock_train.iloc[:, 0], stock_train.iloc[:, 1])\n",
    "    train_MAE = mean_absolute_error(stock_train.iloc[:, 0], stock_train.iloc[:, 1])\n",
    "    test_MSE = mean_squared_error(stock_test.iloc[:, 0], stock_test.iloc[:, 1])\n",
    "    test_MAE = mean_absolute_error(stock_test.iloc[:, 0], stock_test.iloc[:, 1])\n",
    "\n",
    "    print('train_MSE:', train_MSE, '; train_MAE:', train_MAE)\n",
    "    print('test_MSE:', test_MSE, '; test_MAE:', test_MAE)\n",
    "\n",
    "    return train_MSE, train_MAE, test_MSE, test_MAE"
   ]
  },
  {
   "cell_type": "code",
   "execution_count": 5,
   "metadata": {},
   "outputs": [
    {
     "name": "stdout",
     "output_type": "stream",
     "text": [
      "train_MSE: 2.7424938653869573 ; train_MAE: 1.2433112462290412\n",
      "test_MSE: 0.6463609202012328 ; test_MAE: 0.6432877544669373\n"
     ]
    }
   ],
   "source": [
    "train_MSE, train_MAE, test_MSE, test_MAE = obtain_MSE_MAE_CNN(stock_example)"
   ]
  },
  {
   "cell_type": "code",
   "execution_count": 6,
   "metadata": {},
   "outputs": [],
   "source": [
    "def obtain_MSE_MAE_CNN_All(the_index):\n",
    "    CNN_All_df, CNN_files = read_all(CNN_path + group[index[the_index]])\n",
    "    length = len(CNN_All_df)\n",
    "    store_path = './Data/MAE_MSE/0.9997/504/CNN/'\n",
    "    stock_index_name = []\n",
    "    for i in range(length):\n",
    "        stock_index_name.append(CNN_files[i][:-4])\n",
    "\n",
    "    metric_columns = ['train_MSE', 'train_MAE', 'test_MSE', 'test_MAE']\n",
    "    result_df = pd.DataFrame(0, index = stock_index_name, columns = metric_columns)\n",
    "\n",
    "    for i in range(length):\n",
    "        stock = CNN_All_df[i]\n",
    "        train_MSE, train_MAE, test_MSE, test_MAE = obtain_MSE_MAE_CNN(stock)\n",
    "        result_df.iloc[i, 0] = train_MSE\n",
    "        result_df.iloc[i, 1] = train_MAE\n",
    "        result_df.iloc[i, 2] = test_MSE\n",
    "        result_df.iloc[i, 3] = test_MAE\n",
    "    \n",
    "    result_df.to_csv(store_path + group[index[the_index]] + '.csv')"
   ]
  },
  {
   "cell_type": "code",
   "execution_count": 7,
   "metadata": {},
   "outputs": [
    {
     "name": "stdout",
     "output_type": "stream",
     "text": [
      "train_MSE: 2.7424938653869573 ; train_MAE: 1.2433112462290412\n",
      "test_MSE: 0.6463609202012328 ; test_MAE: 0.6432877544669373\n",
      "train_MSE: 64.28201277854333 ; train_MAE: 6.660214641807241\n",
      "test_MSE: 11.086018396748 ; test_MAE: 2.509225177293702\n",
      "train_MSE: 0.011448231627738543 ; train_MAE: 0.08707828730171141\n",
      "test_MSE: 0.0207335073604946 ; test_MAE: 0.1373219473584516\n",
      "train_MSE: 0.04086543236429301 ; train_MAE: 0.14260003734327353\n",
      "test_MSE: 0.04367288477188061 ; test_MAE: 0.17786719354238714\n",
      "train_MSE: 6.024346540565737 ; train_MAE: 2.0408164113653466\n",
      "test_MSE: 2.3730543476540173 ; test_MAE: 1.363712298757316\n",
      "train_MSE: 1.429099256477297 ; train_MAE: 0.9768823847781547\n",
      "test_MSE: 0.35559687697293085 ; test_MAE: 0.48494596490935343\n"
     ]
    }
   ],
   "source": [
    "obtain_MSE_MAE_CNN_All(0)"
   ]
  },
  {
   "cell_type": "code",
   "execution_count": 8,
   "metadata": {},
   "outputs": [
    {
     "name": "stdout",
     "output_type": "stream",
     "text": [
      "train_MSE: 0.7290456347449523 ; train_MAE: 0.6173241465746623\n",
      "test_MSE: 0.2161422775396783 ; test_MAE: 0.3818998608434109\n",
      "train_MSE: 0.04487273900790514 ; train_MAE: 0.1615156322535839\n",
      "test_MSE: 0.18542467993558331 ; test_MAE: 0.38229376935820514\n",
      "train_MSE: 6.4004748703286305 ; train_MAE: 1.9755963246342552\n",
      "test_MSE: 3.095239986850566 ; test_MAE: 1.384595614328448\n",
      "train_MSE: 13.215333931244167 ; train_MAE: 2.8896874525966547\n",
      "test_MSE: 36.19767049133426 ; test_MAE: 5.672183221635673\n",
      "train_MSE: 31.050744675277162 ; train_MAE: 4.285416284975742\n",
      "test_MSE: 20.034228351027085 ; test_MAE: 3.451108311006359\n",
      "train_MSE: 0.4203634504046729 ; train_MAE: 0.4515896217867165\n",
      "test_MSE: 1.985875840189452 ; test_MAE: 1.3354271800280777\n",
      "train_MSE: 129.6152565478666 ; train_MAE: 9.474318436543724\n",
      "test_MSE: 56.582086249186226 ; test_MAE: 6.4470165750554385\n",
      "train_MSE: 3.620462915615126 ; train_MAE: 1.7042296181222394\n",
      "test_MSE: 0.4206746296812038 ; test_MAE: 0.5234143149529379\n",
      "train_MSE: 1.3196300491505972 ; train_MAE: 0.9094879630305625\n",
      "test_MSE: 0.769403268163705 ; test_MAE: 0.7143153401125094\n",
      "train_MSE: 0.08286434451480434 ; train_MAE: 0.25385141656069954\n",
      "test_MSE: 0.05935099193990932 ; test_MAE: 0.21955539554669104\n",
      "train_MSE: 46.699181571799684 ; train_MAE: 4.917959124254314\n",
      "test_MSE: 97.77409926361422 ; test_MAE: 8.960074960235845\n",
      "train_MSE: 0.6948114866259114 ; train_MAE: 0.5989448441748494\n",
      "test_MSE: 2.7395039252642164 ; test_MAE: 1.5670258346094963\n",
      "train_MSE: 0.12379398763198277 ; train_MAE: 0.2764955994725664\n",
      "test_MSE: 0.3812627363099958 ; test_MAE: 0.5271990365820192\n",
      "train_MSE: 2.6218896184746994 ; train_MAE: 1.2481398200471527\n",
      "test_MSE: 4.202442663262755 ; test_MAE: 1.382845686725148\n",
      "train_MSE: 3.8250040348986256 ; train_MAE: 1.574191634726401\n",
      "test_MSE: 3.5294080029782746 ; test_MAE: 1.7213350278749602\n",
      "train_MSE: 0.015373867461895813 ; train_MAE: 0.09903462652875097\n",
      "test_MSE: 0.002210639101668346 ; test_MAE: 0.03654050937801428\n",
      "train_MSE: 0.015584741380473818 ; train_MAE: 0.10136395807696848\n",
      "test_MSE: 0.004205446795223939 ; test_MAE: 0.049949825408843296\n",
      "train_MSE: 2.4236324245883467 ; train_MAE: 1.246856577828694\n",
      "test_MSE: 0.9385666210637555 ; test_MAE: 0.7500618619574849\n",
      "train_MSE: 0.11735141724684583 ; train_MAE: 0.26661512743641735\n",
      "test_MSE: 0.07194899449672996 ; test_MAE: 0.2094994468865801\n",
      "train_MSE: 0.5429993263243295 ; train_MAE: 0.5348910526452846\n",
      "test_MSE: 0.15178772726246542 ; test_MAE: 0.3259935083012599\n",
      "train_MSE: 7.952424592455215 ; train_MAE: 1.9714556606286233\n",
      "test_MSE: 31.245556719573237 ; test_MAE: 5.080674215705858\n",
      "train_MSE: 94.58281206820229 ; train_MAE: 8.180461871145182\n",
      "test_MSE: 9.721324510700212 ; test_MAE: 2.481533240043665\n"
     ]
    }
   ],
   "source": [
    "obtain_MSE_MAE_CNN_All(1)"
   ]
  },
  {
   "cell_type": "code",
   "execution_count": 9,
   "metadata": {},
   "outputs": [
    {
     "name": "stdout",
     "output_type": "stream",
     "text": [
      "train_MSE: 0.053302304161479686 ; train_MAE: 0.17667880244108558\n",
      "test_MSE: 0.018893643801970623 ; test_MAE: 0.10662237515436872\n",
      "train_MSE: 2.291992695402951 ; train_MAE: 1.1700073831432343\n",
      "test_MSE: 6.376698226296525 ; test_MAE: 2.174080601382997\n",
      "train_MSE: 0.047904333744678215 ; train_MAE: 0.16559523824664615\n",
      "test_MSE: 0.09084189025999735 ; test_MAE: 0.236797322692236\n",
      "train_MSE: 2.022266198329051 ; train_MAE: 1.2185920043853176\n",
      "test_MSE: 4.841345362750406 ; test_MAE: 2.0514863203701674\n",
      "train_MSE: 0.3327170387792108 ; train_MAE: 0.40678521233590603\n",
      "test_MSE: 2.6049000231477764 ; test_MAE: 1.5030283888173663\n",
      "train_MSE: 10.184218511474278 ; train_MAE: 2.5674970991921366\n",
      "test_MSE: 1.6495837757257217 ; test_MAE: 0.9600498264423147\n",
      "train_MSE: 13.103792303964862 ; train_MAE: 2.9985399885910495\n",
      "test_MSE: 115.48695059809698 ; test_MAE: 9.970500298133203\n",
      "train_MSE: 1.0846610264609085 ; train_MAE: 0.8131446541611916\n",
      "test_MSE: 1.5828219859640085 ; test_MAE: 1.0204732538880619\n",
      "train_MSE: 0.39495433856549134 ; train_MAE: 0.4910645738920391\n",
      "test_MSE: 0.24410351460235974 ; test_MAE: 0.4124683009687452\n",
      "train_MSE: 0.09271671320895591 ; train_MAE: 0.24922684981591772\n",
      "test_MSE: 0.09882050638791509 ; test_MAE: 0.22673231015777578\n",
      "train_MSE: 0.043319135346313035 ; train_MAE: 0.14652971028707593\n",
      "test_MSE: 0.4455698417606204 ; test_MAE: 0.6027894090658485\n",
      "train_MSE: 0.04510996196390764 ; train_MAE: 0.15795224120206985\n",
      "test_MSE: 0.04608304417675825 ; test_MAE: 0.1756920473372919\n",
      "train_MSE: 1.5644759927461565 ; train_MAE: 0.9663316503140195\n",
      "test_MSE: 0.19896012589547657 ; test_MAE: 0.36804878302463373\n",
      "train_MSE: 15.600118767736667 ; train_MAE: 3.0633884881592612\n",
      "test_MSE: 21.18563545400445 ; test_MAE: 3.6932342887381573\n",
      "train_MSE: 0.025737487623172163 ; train_MAE: 0.11978955773136071\n",
      "test_MSE: 0.06651890843244099 ; test_MAE: 0.2228519502428521\n",
      "train_MSE: 1.5266451883547174 ; train_MAE: 0.9933916969797701\n",
      "test_MSE: 0.42276078421771335 ; test_MAE: 0.5466850567461475\n",
      "train_MSE: 0.05120773029558402 ; train_MAE: 0.1668880777460132\n",
      "test_MSE: 0.07034226692537 ; test_MAE: 0.22452227311425682\n",
      "train_MSE: 0.13205425383133992 ; train_MAE: 0.2846349317855855\n",
      "test_MSE: 0.06815831125064215 ; test_MAE: 0.22694497670508382\n",
      "train_MSE: 1.2926240938595672 ; train_MAE: 0.9530465302020065\n",
      "test_MSE: 4.774520226106804 ; test_MAE: 1.9717924105200266\n"
     ]
    }
   ],
   "source": [
    "obtain_MSE_MAE_CNN_All(2)"
   ]
  },
  {
   "cell_type": "markdown",
   "metadata": {},
   "source": [
    "## Calculate result from SSA-CNN"
   ]
  },
  {
   "cell_type": "code",
   "execution_count": 10,
   "metadata": {},
   "outputs": [],
   "source": [
    "SSA_CNN_path = './Data/Parameter_tuning_0.9997/504_Prediction/SSA-CNN/'\n",
    "\n",
    "# stock_example = pd.read_csv(path + 'Data/Grouped/Consumer and Service Sectors/ALL.AX.csv')\n",
    "def read_stock(path, file_name):\n",
    "    stock = pd.read_csv(path + file_name, header = [0])\n",
    "    stock_index = pd.to_datetime(stock['Date'])\n",
    "    stock.index = stock_index\n",
    "    stock = stock.drop('Date', axis = 1)\n",
    "    return stock\n",
    "group = ['Consumer and Service Sectors', 'Financial, Healthcare, Technology, and Utilities Sectors', 'Industrial and Infrastructure Sectors']\n",
    "index = [0, 1, 2]\n",
    "def read_all(the_path):\n",
    "    All_df = []\n",
    "    files = [f for f in os.listdir(the_path) if f.endswith('.csv')]\n",
    "\n",
    "    for name in files:\n",
    "        stock = read_stock(the_path + '/', name)\n",
    "        All_df.append(stock)\n",
    "    return All_df, files\n",
    "\n",
    "SSA_CNN_All_df_0, SSA_CNN_files_0 = read_all(SSA_CNN_path + group[index[0]])"
   ]
  },
  {
   "cell_type": "code",
   "execution_count": 11,
   "metadata": {},
   "outputs": [],
   "source": [
    "stock_example = SSA_CNN_All_df_0[0]"
   ]
  },
  {
   "cell_type": "code",
   "execution_count": 12,
   "metadata": {},
   "outputs": [],
   "source": [
    "def obtain_MSE_MAE_SSA_CNN(stock_result):\n",
    "    length = len(stock_result)\n",
    "    train_length = length - 252\n",
    "    test_length = 252\n",
    "    stock_train = stock_result[ :train_length]\n",
    "    stock_test = stock_result[train_length: ]\n",
    "    train_MSE = mean_squared_error(stock_train.iloc[:, 0], stock_train.iloc[:, 2])\n",
    "    train_MAE = mean_absolute_error(stock_train.iloc[:, 0], stock_train.iloc[:, 2])\n",
    "    test_MSE = mean_squared_error(stock_test.iloc[:, 0], stock_test.iloc[:, 2])\n",
    "    test_MAE = mean_absolute_error(stock_test.iloc[:, 0], stock_test.iloc[:, 2])\n",
    "\n",
    "    print('train_MSE:', train_MSE, '; train_MAE:', train_MAE)\n",
    "    print('test_MSE:', test_MSE, '; test_MAE:', test_MAE)\n",
    "\n",
    "    return train_MSE, train_MAE, test_MSE, test_MAE"
   ]
  },
  {
   "cell_type": "code",
   "execution_count": 13,
   "metadata": {},
   "outputs": [
    {
     "name": "stdout",
     "output_type": "stream",
     "text": [
      "train_MSE: 0.23524801796775652 ; train_MAE: 0.3718265686821179\n",
      "test_MSE: 1.0574808585895907 ; test_MAE: 0.7586334699283099\n"
     ]
    }
   ],
   "source": [
    "train_MSE, train_MAE, test_MSE, test_MAE = obtain_MSE_MAE_SSA_CNN(stock_example)"
   ]
  },
  {
   "cell_type": "code",
   "execution_count": 14,
   "metadata": {},
   "outputs": [],
   "source": [
    "def obtain_MSE_MAE_SSA_CNN_All(the_index):\n",
    "    SSA_CNN_All_df, SSA_CNN_files = read_all(SSA_CNN_path + group[index[the_index]])\n",
    "    length = len(SSA_CNN_All_df)\n",
    "    store_path = './Data/MAE_MSE/0.9997/504/SSA-CNN/'\n",
    "    stock_index_name = []\n",
    "    for i in range(length):\n",
    "        stock_index_name.append(SSA_CNN_files[i][:-4])\n",
    "\n",
    "    metric_columns = ['train_MSE', 'train_MAE', 'test_MSE', 'test_MAE']\n",
    "    result_df = pd.DataFrame(0, index = stock_index_name, columns = metric_columns)\n",
    "\n",
    "    for i in range(length):\n",
    "        stock = SSA_CNN_All_df[i]\n",
    "        train_MSE, train_MAE, test_MSE, test_MAE = obtain_MSE_MAE_SSA_CNN(stock)\n",
    "        result_df.iloc[i, 0] = train_MSE\n",
    "        result_df.iloc[i, 1] = train_MAE\n",
    "        result_df.iloc[i, 2] = test_MSE\n",
    "        result_df.iloc[i, 3] = test_MAE\n",
    "    \n",
    "    result_df.to_csv(store_path + group[index[the_index]] + '.csv')"
   ]
  },
  {
   "cell_type": "code",
   "execution_count": 15,
   "metadata": {},
   "outputs": [
    {
     "name": "stdout",
     "output_type": "stream",
     "text": [
      "train_MSE: 0.23524801796775652 ; train_MAE: 0.3718265686821179\n",
      "test_MSE: 1.0574808585895907 ; test_MAE: 0.7586334699283099\n",
      "train_MSE: 3.5256236504205893 ; train_MAE: 1.422649769238871\n",
      "test_MSE: 18.344531837921483 ; test_MAE: 3.361174634224949\n",
      "train_MSE: 0.002913498753334876 ; train_MAE: 0.041922483141421336\n",
      "test_MSE: 0.00806536622106901 ; test_MAE: 0.07507752861732767\n",
      "train_MSE: 0.01142628643494725 ; train_MAE: 0.07845815418517235\n",
      "test_MSE: 0.027232871457585607 ; test_MAE: 0.12342769374204005\n",
      "train_MSE: 0.4148605849363083 ; train_MAE: 0.4944869051892233\n",
      "test_MSE: 2.666362902106538 ; test_MAE: 1.2853442798321295\n",
      "train_MSE: 0.29137321394930027 ; train_MAE: 0.3933745428749787\n",
      "test_MSE: 0.9059487407674279 ; test_MAE: 0.7497835682606353\n"
     ]
    }
   ],
   "source": [
    "obtain_MSE_MAE_SSA_CNN_All(0)"
   ]
  },
  {
   "cell_type": "code",
   "execution_count": 16,
   "metadata": {},
   "outputs": [
    {
     "name": "stdout",
     "output_type": "stream",
     "text": [
      "train_MSE: 0.10022521168680122 ; train_MAE: 0.2414224884835352\n",
      "test_MSE: 0.5843604712479922 ; test_MAE: 0.607240626630569\n",
      "train_MSE: 0.01917615471308789 ; train_MAE: 0.10066873571087948\n",
      "test_MSE: 0.06179944101004899 ; test_MAE: 0.19577451446309313\n",
      "train_MSE: 1.2492691616069374 ; train_MAE: 0.8554881483675861\n",
      "test_MSE: 4.631759331420153 ; test_MAE: 1.6764551077401695\n",
      "train_MSE: 1.289679629449073 ; train_MAE: 0.8514959123962462\n",
      "test_MSE: 7.107258960841671 ; test_MAE: 2.089955847875319\n",
      "train_MSE: 9.127584429217453 ; train_MAE: 2.2247388155373575\n",
      "test_MSE: 27.77226059709122 ; test_MAE: 4.00740877359718\n",
      "train_MSE: 0.06047262593391309 ; train_MAE: 0.18593146876531205\n",
      "test_MSE: 0.7514132757959429 ; test_MAE: 0.6613386585236285\n",
      "train_MSE: 16.828591839289103 ; train_MAE: 3.057087500517805\n",
      "test_MSE: 47.7958054345006 ; test_MAE: 5.540559146725225\n",
      "train_MSE: 0.14857907290681416 ; train_MAE: 0.29161111727330663\n",
      "test_MSE: 0.45559970814787604 ; test_MAE: 0.5457948964791862\n",
      "train_MSE: 0.06054214248517039 ; train_MAE: 0.18192961892765688\n",
      "test_MSE: 0.5137469027625332 ; test_MAE: 0.5424004261198832\n",
      "train_MSE: 0.008115996944322487 ; train_MAE: 0.06896398631531692\n",
      "test_MSE: 0.02544397483360803 ; test_MAE: 0.11162216129972556\n",
      "train_MSE: 3.674555319648834 ; train_MAE: 1.4446383172734152\n",
      "test_MSE: 27.6391895253452 ; test_MAE: 3.6981337540704318\n",
      "train_MSE: 0.10582692171708419 ; train_MAE: 0.24486338438735616\n",
      "test_MSE: 0.8052619013815469 ; test_MAE: 0.6992598786454886\n",
      "train_MSE: 0.024659849710909613 ; train_MAE: 0.11801006663213018\n",
      "test_MSE: 0.10700713272653557 ; test_MAE: 0.25362883992585616\n",
      "train_MSE: 1.0046966817917264 ; train_MAE: 0.7590074514513587\n",
      "test_MSE: 6.904893197015534 ; test_MAE: 1.50357560825189\n",
      "train_MSE: 0.15261558307865458 ; train_MAE: 0.28850957721046444\n",
      "test_MSE: 0.8612875601499357 ; test_MAE: 0.6938884133788452\n",
      "train_MSE: 0.0018616727313270675 ; train_MAE: 0.03305656066827615\n",
      "test_MSE: 0.006282458636284864 ; test_MAE: 0.06167382506233802\n",
      "train_MSE: 0.002594015046092791 ; train_MAE: 0.038209164629264145\n",
      "test_MSE: 0.012464602161077564 ; test_MAE: 0.08200522364475635\n",
      "train_MSE: 0.1895137541725836 ; train_MAE: 0.3221684603653642\n",
      "test_MSE: 0.9366415235825456 ; test_MAE: 0.7491631350625148\n",
      "train_MSE: 0.025503894622170047 ; train_MAE: 0.12243568979035117\n",
      "test_MSE: 0.10033088185040444 ; test_MAE: 0.2439091966844619\n",
      "train_MSE: 0.10435719785077305 ; train_MAE: 0.2435185832469876\n",
      "test_MSE: 0.5308654954167261 ; test_MAE: 0.5042590834778207\n",
      "train_MSE: 0.33772918333480867 ; train_MAE: 0.4189021418497159\n",
      "test_MSE: 3.599682698191315 ; test_MAE: 1.4840915815952331\n",
      "train_MSE: 2.820458158717265 ; train_MAE: 1.2576365776064808\n",
      "test_MSE: 13.762624227836543 ; test_MAE: 2.947336381757942\n"
     ]
    }
   ],
   "source": [
    "obtain_MSE_MAE_SSA_CNN_All(1)"
   ]
  },
  {
   "cell_type": "code",
   "execution_count": 17,
   "metadata": {},
   "outputs": [
    {
     "name": "stdout",
     "output_type": "stream",
     "text": [
      "train_MSE: 0.011621461318373117 ; train_MAE: 0.08175748912849004\n",
      "test_MSE: 0.034817663522281016 ; test_MAE: 0.15129121595599174\n",
      "train_MSE: 0.24448779719490546 ; train_MAE: 0.37686657192572615\n",
      "test_MSE: 1.509015774093373 ; test_MAE: 0.9384850044777676\n",
      "train_MSE: 0.025481112751348012 ; train_MAE: 0.11949802129494073\n",
      "test_MSE: 0.10751391115009196 ; test_MAE: 0.2583950446158874\n",
      "train_MSE: 0.038595355595997485 ; train_MAE: 0.1460795731239939\n",
      "test_MSE: 0.41396889447485935 ; test_MAE: 0.49405882181402205\n",
      "train_MSE: 0.011072844099401883 ; train_MAE: 0.07838839355186719\n",
      "test_MSE: 0.26144533925531366 ; test_MAE: 0.3985786906294328\n",
      "train_MSE: 0.27102844060008535 ; train_MAE: 0.38927153998336866\n",
      "test_MSE: 1.5961802154005438 ; test_MAE: 0.9917506683542301\n",
      "train_MSE: 0.24441411334641153 ; train_MAE: 0.3519307397448065\n",
      "test_MSE: 7.970762331770669 ; test_MAE: 2.1884947871698843\n",
      "train_MSE: 0.17862510292303166 ; train_MAE: 0.3242025512655998\n",
      "test_MSE: 0.5175255679982891 ; test_MAE: 0.5685317927314424\n",
      "train_MSE: 0.047232889847707474 ; train_MAE: 0.1627335086501692\n",
      "test_MSE: 0.11182653962587043 ; test_MAE: 0.2694528308440724\n",
      "train_MSE: 0.00786851110641442 ; train_MAE: 0.06896128821680803\n",
      "test_MSE: 0.061906953483997176 ; test_MAE: 0.16071317335479562\n",
      "train_MSE: 0.0015592530556108955 ; train_MAE: 0.023398157452959038\n",
      "test_MSE: 0.03326914939660587 ; test_MAE: 0.1439092314059265\n",
      "train_MSE: 0.007054493254923067 ; train_MAE: 0.06474405980030186\n",
      "test_MSE: 0.028434765584735466 ; test_MAE: 0.13161130446479896\n",
      "train_MSE: 0.05586763089203544 ; train_MAE: 0.17444557158140664\n",
      "test_MSE: 0.373558739512125 ; test_MAE: 0.4845953772422326\n",
      "train_MSE: 2.1327044508833066 ; train_MAE: 1.1135032268918392\n",
      "test_MSE: 10.274496528168774 ; test_MAE: 2.449591739243075\n",
      "train_MSE: 0.00195431335362953 ; train_MAE: 0.03403766510432816\n",
      "test_MSE: 0.018119197899358005 ; test_MAE: 0.10748036345155519\n",
      "train_MSE: 0.16611358290810752 ; train_MAE: 0.3046050863638562\n",
      "test_MSE: 0.3804410920760347 ; test_MAE: 0.48954362333563634\n",
      "train_MSE: 0.009854523119555727 ; train_MAE: 0.07386566564418791\n",
      "test_MSE: 0.03652553239672924 ; test_MAE: 0.1428066165896089\n",
      "train_MSE: 0.03327924711776773 ; train_MAE: 0.1384493248917007\n",
      "test_MSE: 0.10026006794469157 ; test_MAE: 0.26067324364691347\n",
      "train_MSE: 0.14758654891854917 ; train_MAE: 0.28813335922715894\n",
      "test_MSE: 1.0199026805925258 ; test_MAE: 0.7946789307610304\n"
     ]
    }
   ],
   "source": [
    "obtain_MSE_MAE_SSA_CNN_All(2)"
   ]
  },
  {
   "cell_type": "markdown",
   "metadata": {},
   "source": [
    "## Calculate result from SSA-LSTM"
   ]
  },
  {
   "cell_type": "code",
   "execution_count": 18,
   "metadata": {},
   "outputs": [],
   "source": [
    "SSA_LSTM_path = './Data/Parameter_tuning_0.9997/504_Prediction/SSA-LSTM/'\n",
    "\n",
    "def obtain_MSE_MAE_SSA_LSTM(stock_result):\n",
    "    length = len(stock_result)\n",
    "    train_length = length - 252\n",
    "    test_length = 252\n",
    "    stock_train = stock_result[ :train_length]\n",
    "    stock_test = stock_result[train_length: ]\n",
    "    train_MSE = mean_squared_error(stock_train.iloc[:, 0], stock_train.iloc[:, 2])\n",
    "    train_MAE = mean_absolute_error(stock_train.iloc[:, 0], stock_train.iloc[:, 2])\n",
    "    test_MSE = mean_squared_error(stock_test.iloc[:, 0], stock_test.iloc[:, 2])\n",
    "    test_MAE = mean_absolute_error(stock_test.iloc[:, 0], stock_test.iloc[:, 2])\n",
    "\n",
    "    print('train_MSE:', train_MSE, '; train_MAE:', train_MAE)\n",
    "    print('test_MSE:', test_MSE, '; test_MAE:', test_MAE)\n",
    "\n",
    "    return train_MSE, train_MAE, test_MSE, test_MAE\n",
    "\n",
    "def obtain_MSE_MAE_SSA_LSTM_All(the_index):\n",
    "    SSA_LSTM_All_df, SSA_LSTM_files = read_all(SSA_LSTM_path + group[index[the_index]])\n",
    "    length = len(SSA_LSTM_All_df)\n",
    "    store_path = './Data/MAE_MSE/0.9997/504/SSA-LSTM/'\n",
    "    stock_index_name = []\n",
    "    for i in range(length):\n",
    "        stock_index_name.append(SSA_LSTM_files[i][:-4])\n",
    "\n",
    "    metric_columns = ['train_MSE', 'train_MAE', 'test_MSE', 'test_MAE']\n",
    "    result_df = pd.DataFrame(0, index = stock_index_name, columns = metric_columns)\n",
    "\n",
    "    for i in range(length):\n",
    "        stock = SSA_LSTM_All_df[i]\n",
    "        train_MSE, train_MAE, test_MSE, test_MAE = obtain_MSE_MAE_SSA_LSTM(stock)\n",
    "        result_df.iloc[i, 0] = train_MSE\n",
    "        result_df.iloc[i, 1] = train_MAE\n",
    "        result_df.iloc[i, 2] = test_MSE\n",
    "        result_df.iloc[i, 3] = test_MAE\n",
    "    \n",
    "    result_df.to_csv(store_path + group[index[the_index]] + '.csv')"
   ]
  },
  {
   "cell_type": "code",
   "execution_count": 19,
   "metadata": {},
   "outputs": [
    {
     "name": "stdout",
     "output_type": "stream",
     "text": [
      "train_MSE: 0.4110418156278858 ; train_MAE: 0.4825205363345699\n",
      "test_MSE: 1.6610074034964541 ; test_MAE: 0.9622429343031751\n",
      "train_MSE: 6.030624170623356 ; train_MAE: 1.8032338502154608\n",
      "test_MSE: 24.81615573500837 ; test_MAE: 3.6156043581827984\n",
      "train_MSE: 0.004294056030515829 ; train_MAE: 0.05034725419025763\n",
      "test_MSE: 0.009926288395144459 ; test_MAE: 0.08157829376287691\n",
      "train_MSE: 0.019678658781002546 ; train_MAE: 0.10242056512658297\n",
      "test_MSE: 0.037600427716234876 ; test_MAE: 0.14383789739051822\n",
      "train_MSE: 0.4986803597500304 ; train_MAE: 0.5335708953468127\n",
      "test_MSE: 2.901915876110528 ; test_MAE: 1.320149225384322\n",
      "train_MSE: 0.31441708342584473 ; train_MAE: 0.41557539755855377\n",
      "test_MSE: 1.0580265978122112 ; test_MAE: 0.8304419604950635\n"
     ]
    }
   ],
   "source": [
    "obtain_MSE_MAE_SSA_LSTM_All(0)"
   ]
  },
  {
   "cell_type": "code",
   "execution_count": 20,
   "metadata": {},
   "outputs": [
    {
     "name": "stdout",
     "output_type": "stream",
     "text": [
      "train_MSE: 0.24794891702566874 ; train_MAE: 0.3529349051331556\n",
      "test_MSE: 0.8820418397640433 ; test_MAE: 0.7649848842590081\n",
      "train_MSE: 0.020151701683163593 ; train_MAE: 0.10265428441175352\n",
      "test_MSE: 0.07866453581968144 ; test_MAE: 0.22995964109753922\n",
      "train_MSE: 1.858183464137074 ; train_MAE: 1.0380156329984125\n",
      "test_MSE: 6.689328761155097 ; test_MAE: 2.0551024908066733\n",
      "train_MSE: 1.9123912600752857 ; train_MAE: 1.040155892747059\n",
      "test_MSE: 9.975893308427544 ; test_MAE: 2.429245781885854\n",
      "train_MSE: 11.993193322912683 ; train_MAE: 2.588445032925544\n",
      "test_MSE: 33.496421167660955 ; test_MAE: 4.532669442716535\n",
      "train_MSE: 0.15369078546723708 ; train_MAE: 0.26854732708745077\n",
      "test_MSE: 1.0385081054941827 ; test_MAE: 0.772949832274899\n",
      "train_MSE: 32.37877437254543 ; train_MAE: 4.339214516691805\n",
      "test_MSE: 66.10568895858526 ; test_MAE: 6.4869167479264815\n",
      "train_MSE: 0.40808081627726017 ; train_MAE: 0.486056573574951\n",
      "test_MSE: 0.8923585747891023 ; test_MAE: 0.728421783386308\n",
      "train_MSE: 0.08534723967349635 ; train_MAE: 0.21973534829280852\n",
      "test_MSE: 0.6471523179067423 ; test_MAE: 0.6016430866027612\n",
      "train_MSE: 0.013888555347570265 ; train_MAE: 0.08798298052696009\n",
      "test_MSE: 0.026986375743168214 ; test_MAE: 0.11774328045194991\n",
      "train_MSE: 5.784967237726384 ; train_MAE: 1.7222946927073854\n",
      "test_MSE: 42.13812235497393 ; test_MAE: 4.563521626326725\n",
      "train_MSE: 0.2716396784862346 ; train_MAE: 0.3642742599139325\n",
      "test_MSE: 1.8135684910500405 ; test_MAE: 1.05360660410871\n",
      "train_MSE: 0.03862771990741634 ; train_MAE: 0.14453913940876126\n",
      "test_MSE: 0.16808164238046952 ; test_MAE: 0.3278928529750166\n",
      "train_MSE: 1.109878622194476 ; train_MAE: 0.7904322980246808\n",
      "test_MSE: 8.121461319603107 ; test_MAE: 1.6428637045365524\n",
      "train_MSE: 0.22441471434917115 ; train_MAE: 0.3524999580876965\n",
      "test_MSE: 1.2049351869712517 ; test_MAE: 0.8282174472569734\n",
      "train_MSE: 0.005744905213563998 ; train_MAE: 0.05076646961722382\n",
      "test_MSE: 0.00970720162058703 ; test_MAE: 0.07526248326272704\n",
      "train_MSE: 0.0043067190076198775 ; train_MAE: 0.048920090147636895\n",
      "test_MSE: 0.01527281840936244 ; test_MAE: 0.09198425269159703\n",
      "train_MSE: 0.2548142541174538 ; train_MAE: 0.3811473232980161\n",
      "test_MSE: 1.1860425826857872 ; test_MAE: 0.8500421713298126\n",
      "train_MSE: 0.05578599386548789 ; train_MAE: 0.17298219635830686\n",
      "test_MSE: 0.15997743152913246 ; test_MAE: 0.30530102811085535\n",
      "train_MSE: 0.25377929247542436 ; train_MAE: 0.3565892313396332\n",
      "test_MSE: 0.9455023786108601 ; test_MAE: 0.6592110256259694\n",
      "train_MSE: 1.2177459857694126 ; train_MAE: 0.7521236233133504\n",
      "test_MSE: 3.3161791714665196 ; test_MAE: 1.3891689458399854\n",
      "train_MSE: 6.578126602697124 ; train_MAE: 1.9660190109113493\n",
      "test_MSE: 16.968043643781826 ; test_MAE: 3.3562234608151567\n"
     ]
    }
   ],
   "source": [
    "obtain_MSE_MAE_SSA_LSTM_All(1)"
   ]
  },
  {
   "cell_type": "code",
   "execution_count": 21,
   "metadata": {},
   "outputs": [
    {
     "name": "stdout",
     "output_type": "stream",
     "text": [
      "train_MSE: 0.021874519222391278 ; train_MAE: 0.10695311357232513\n",
      "test_MSE: 0.0433348532917034 ; test_MAE: 0.1707766655844875\n",
      "train_MSE: 0.3110061394019088 ; train_MAE: 0.4195743577914753\n",
      "test_MSE: 2.4106322210819537 ; test_MAE: 1.2271931699510525\n",
      "train_MSE: 0.032287107768746263 ; train_MAE: 0.13489489203296312\n",
      "test_MSE: 0.189818745050853 ; test_MAE: 0.3571427628085397\n",
      "train_MSE: 0.10716724326284895 ; train_MAE: 0.22745920522392304\n",
      "test_MSE: 0.5454873331829903 ; test_MAE: 0.5798226450699644\n",
      "train_MSE: 0.02799013666804212 ; train_MAE: 0.1209736345214437\n",
      "test_MSE: 0.365464953745416 ; test_MAE: 0.4868097494283461\n",
      "train_MSE: 0.45982256635189045 ; train_MAE: 0.5156854294827673\n",
      "test_MSE: 3.7401085675426375 ; test_MAE: 1.5538736141193759\n",
      "train_MSE: 0.9111551193992813 ; train_MAE: 0.6956022801189466\n",
      "test_MSE: 8.490203243885093 ; test_MAE: 2.1964696152837666\n",
      "train_MSE: 0.3162817229897133 ; train_MAE: 0.4202394245442267\n",
      "test_MSE: 0.8370156952385707 ; test_MAE: 0.7410840422946819\n",
      "train_MSE: 0.06326470855076566 ; train_MAE: 0.18641236209231793\n",
      "test_MSE: 0.10533105501873133 ; test_MAE: 0.2638502587771369\n",
      "train_MSE: 0.015653242086004267 ; train_MAE: 0.09331944885939261\n",
      "test_MSE: 0.09710544600326915 ; test_MAE: 0.20202562837955546\n",
      "train_MSE: 0.003752985863051784 ; train_MAE: 0.03685468063448756\n",
      "test_MSE: 0.042564535989587836 ; test_MAE: 0.1594566723440974\n",
      "train_MSE: 0.013905138868099446 ; train_MAE: 0.08873355373628986\n",
      "test_MSE: 0.04448698498979164 ; test_MAE: 0.16034967593979116\n",
      "train_MSE: 0.12941297721619355 ; train_MAE: 0.25587198173330156\n",
      "test_MSE: 0.33750759434142685 ; test_MAE: 0.4616122469300797\n",
      "train_MSE: 2.6612898861462315 ; train_MAE: 1.240033416388695\n",
      "test_MSE: 15.226631661389607 ; test_MAE: 3.0900822642482204\n",
      "train_MSE: 0.008179021838612152 ; train_MAE: 0.06924667950681711\n",
      "test_MSE: 0.03720772568134673 ; test_MAE: 0.15074445169433354\n",
      "train_MSE: 0.41523893949602886 ; train_MAE: 0.4823818045653387\n",
      "test_MSE: 0.5801693960751956 ; test_MAE: 0.6047300857447078\n",
      "train_MSE: 0.02358493972573889 ; train_MAE: 0.11044880156695201\n",
      "test_MSE: 0.0592061475076201 ; test_MAE: 0.1867456241333611\n",
      "train_MSE: 0.04611996336377497 ; train_MAE: 0.16253129926373336\n",
      "test_MSE: 0.11504694683453505 ; test_MAE: 0.2743838991288051\n",
      "train_MSE: 0.4598215764039123 ; train_MAE: 0.48213030921561634\n",
      "test_MSE: 2.0141992289993578 ; test_MAE: 1.1444147450730306\n"
     ]
    }
   ],
   "source": [
    "obtain_MSE_MAE_SSA_LSTM_All(2)"
   ]
  },
  {
   "cell_type": "markdown",
   "metadata": {},
   "source": [
    "## Calculate result from SSA-CNN-LSTM"
   ]
  },
  {
   "cell_type": "code",
   "execution_count": 22,
   "metadata": {},
   "outputs": [],
   "source": [
    "SSA_CNN_LSTM_path = './Data/Parameter_tuning_0.9997/504_Prediction/SSA-CNN-LSTM/'\n",
    "\n",
    "def obtain_MSE_MAE_SSA_CNN_LSTM(stock_result):\n",
    "    length = len(stock_result)\n",
    "    train_length = length - 252\n",
    "    test_length = 252\n",
    "    stock_train = stock_result[ :train_length]\n",
    "    stock_test = stock_result[train_length: ]\n",
    "    train_MSE = mean_squared_error(stock_train.iloc[:, 0], stock_train.iloc[:, 2])\n",
    "    train_MAE = mean_absolute_error(stock_train.iloc[:, 0], stock_train.iloc[:, 2])\n",
    "    test_MSE = mean_squared_error(stock_test.iloc[:, 0], stock_test.iloc[:, 2])\n",
    "    test_MAE = mean_absolute_error(stock_test.iloc[:, 0], stock_test.iloc[:, 2])\n",
    "\n",
    "    print('train_MSE:', train_MSE, '; train_MAE:', train_MAE)\n",
    "    print('test_MSE:', test_MSE, '; test_MAE:', test_MAE)\n",
    "\n",
    "    return train_MSE, train_MAE, test_MSE, test_MAE\n",
    "\n",
    "def obtain_MSE_MAE_SSA_CNN_LSTM_All(the_index):\n",
    "    SSA_CNN_LSTM_All_df, SSA_CNN_LSTM_files = read_all(SSA_CNN_LSTM_path + group[index[the_index]])\n",
    "    length = len(SSA_CNN_LSTM_All_df)\n",
    "    store_path = './Data/MAE_MSE/0.9997/504/SSA-CNN-LSTM/'\n",
    "    stock_index_name = []\n",
    "    for i in range(length):\n",
    "        stock_index_name.append(SSA_CNN_LSTM_files[i][:-4])\n",
    "\n",
    "    metric_columns = ['train_MSE', 'train_MAE', 'test_MSE', 'test_MAE']\n",
    "    result_df = pd.DataFrame(0, index = stock_index_name, columns = metric_columns)\n",
    "\n",
    "    for i in range(length):\n",
    "        stock = SSA_CNN_LSTM_All_df[i]\n",
    "        train_MSE, train_MAE, test_MSE, test_MAE = obtain_MSE_MAE_SSA_CNN_LSTM(stock)\n",
    "        result_df.iloc[i, 0] = train_MSE\n",
    "        result_df.iloc[i, 1] = train_MAE\n",
    "        result_df.iloc[i, 2] = test_MSE\n",
    "        result_df.iloc[i, 3] = test_MAE\n",
    "    \n",
    "    result_df.to_csv(store_path + group[index[the_index]] + '.csv')"
   ]
  },
  {
   "cell_type": "code",
   "execution_count": 23,
   "metadata": {},
   "outputs": [
    {
     "name": "stdout",
     "output_type": "stream",
     "text": [
      "train_MSE: 0.46032108875078237 ; train_MAE: 0.5009437466688395\n",
      "test_MSE: 1.4372012542347967 ; test_MAE: 0.8702008405823307\n",
      "train_MSE: 5.523754320974275 ; train_MAE: 1.7421980937092458\n",
      "test_MSE: 20.282743550512034 ; test_MAE: 3.4439269171325453\n",
      "train_MSE: 0.0036020308987011153 ; train_MAE: 0.046321621859136256\n",
      "test_MSE: 0.009953360332474334 ; test_MAE: 0.0843061196615568\n",
      "train_MSE: 0.014142969577229835 ; train_MAE: 0.08804539071314445\n",
      "test_MSE: 0.032486829131918006 ; test_MAE: 0.1328964336781994\n",
      "train_MSE: 0.5514485250494908 ; train_MAE: 0.5635522508760544\n",
      "test_MSE: 2.2664748986514986 ; test_MAE: 1.1719588530449006\n",
      "train_MSE: 0.3605334589095827 ; train_MAE: 0.4493140117852673\n",
      "test_MSE: 1.0048771618187071 ; test_MAE: 0.7958030416262147\n"
     ]
    }
   ],
   "source": [
    "obtain_MSE_MAE_SSA_CNN_LSTM_All(0)"
   ]
  },
  {
   "cell_type": "code",
   "execution_count": 24,
   "metadata": {},
   "outputs": [
    {
     "name": "stdout",
     "output_type": "stream",
     "text": [
      "train_MSE: 0.17692657943538811 ; train_MAE: 0.30709908079523335\n",
      "test_MSE: 0.7456985066195045 ; test_MAE: 0.6817220753693214\n",
      "train_MSE: 0.023777298109208263 ; train_MAE: 0.10809084594893201\n",
      "test_MSE: 0.08402701727799824 ; test_MAE: 0.23527796893971098\n",
      "train_MSE: 1.5650802805034316 ; train_MAE: 0.9562139954705433\n",
      "test_MSE: 5.787044659778129 ; test_MAE: 1.8976950344764312\n",
      "train_MSE: 1.9654305464384305 ; train_MAE: 1.0173510938995933\n",
      "test_MSE: 9.202146413707476 ; test_MAE: 2.346935558791392\n",
      "train_MSE: 10.433754757787996 ; train_MAE: 2.3905123237430606\n",
      "test_MSE: 30.165681480398636 ; test_MAE: 4.314458035434611\n",
      "train_MSE: 0.11300324693054563 ; train_MAE: 0.23824337291058478\n",
      "test_MSE: 0.8794996050911339 ; test_MAE: 0.7119654551249822\n",
      "train_MSE: 24.792939175679507 ; train_MAE: 3.774012617290979\n",
      "test_MSE: 61.24205174541424 ; test_MAE: 6.297949898726543\n",
      "train_MSE: 0.35076268955565554 ; train_MAE: 0.43733487465008297\n",
      "test_MSE: 0.6228822891877699 ; test_MAE: 0.6291505678574839\n",
      "train_MSE: 0.08015106459141014 ; train_MAE: 0.2102263440228313\n",
      "test_MSE: 0.6199148518077187 ; test_MAE: 0.5952161025974946\n",
      "train_MSE: 0.013669748246151364 ; train_MAE: 0.08780331477208562\n",
      "test_MSE: 0.026244307755429738 ; test_MAE: 0.11582360654300694\n",
      "train_MSE: 6.482190139954114 ; train_MAE: 1.830057018652068\n",
      "test_MSE: 37.31178486904955 ; test_MAE: 4.5395717026705364\n",
      "train_MSE: 0.19898053305517432 ; train_MAE: 0.31981547664340493\n",
      "test_MSE: 1.3879823780561829 ; test_MAE: 0.9100619124157637\n",
      "train_MSE: 0.056738382791097004 ; train_MAE: 0.17030847922038014\n",
      "test_MSE: 0.15792611430854747 ; test_MAE: 0.31775251517404135\n",
      "train_MSE: 1.2251962373359204 ; train_MAE: 0.8230450858148967\n",
      "test_MSE: 7.650120733922069 ; test_MAE: 1.548285134456957\n",
      "train_MSE: 0.22519218904392382 ; train_MAE: 0.3571130523524638\n",
      "test_MSE: 0.9291695070553306 ; test_MAE: 0.7265225940079826\n",
      "train_MSE: 0.004461540111199801 ; train_MAE: 0.04705201099899532\n",
      "test_MSE: 0.009521179407705398 ; test_MAE: 0.07627573263989604\n",
      "train_MSE: 0.003971708143835657 ; train_MAE: 0.04404813929586539\n",
      "test_MSE: 0.013086745972282075 ; test_MAE: 0.08786558673733942\n",
      "train_MSE: 0.2610199790609771 ; train_MAE: 0.38480788048523334\n",
      "test_MSE: 1.0370329921117856 ; test_MAE: 0.7855585893081343\n",
      "train_MSE: 0.042608765741124585 ; train_MAE: 0.15315553389841022\n",
      "test_MSE: 0.14169083054300732 ; test_MAE: 0.2884500084310263\n",
      "train_MSE: 0.1835119799097391 ; train_MAE: 0.3077334856881751\n",
      "test_MSE: 0.8365985759878702 ; test_MAE: 0.6179328989359447\n",
      "train_MSE: 0.7917705242468637 ; train_MAE: 0.6024094843509652\n",
      "test_MSE: 2.43636179492187 ; test_MAE: 1.1921853988608355\n",
      "train_MSE: 5.866352218320029 ; train_MAE: 1.7569054510107651\n",
      "test_MSE: 10.183152228033963 ; test_MAE: 2.519333205982068\n"
     ]
    }
   ],
   "source": [
    "obtain_MSE_MAE_SSA_CNN_LSTM_All(1)"
   ]
  },
  {
   "cell_type": "code",
   "execution_count": 25,
   "metadata": {},
   "outputs": [
    {
     "name": "stdout",
     "output_type": "stream",
     "text": [
      "train_MSE: 0.022710742123223448 ; train_MAE: 0.10740845003249802\n",
      "test_MSE: 0.04524766220421501 ; test_MAE: 0.17293699941825338\n",
      "train_MSE: 0.4035356915181011 ; train_MAE: 0.46899805709395676\n",
      "test_MSE: 1.9141605363683012 ; test_MAE: 1.0985275049459802\n",
      "train_MSE: 0.03341522251015275 ; train_MAE: 0.13503767532594008\n",
      "test_MSE: 0.18123846068826227 ; test_MAE: 0.3406390148751545\n",
      "train_MSE: 0.11520441170511285 ; train_MAE: 0.23838405224560305\n",
      "test_MSE: 0.431023152014368 ; test_MAE: 0.4959417123649575\n",
      "train_MSE: 0.024659222393197813 ; train_MAE: 0.11118983869692\n",
      "test_MSE: 0.21776231851405284 ; test_MAE: 0.3642245645408292\n",
      "train_MSE: 0.5411420456403038 ; train_MAE: 0.5385636805094254\n",
      "test_MSE: 2.3572303921632503 ; test_MAE: 1.1680540512001025\n",
      "train_MSE: 0.7482429157020748 ; train_MAE: 0.5714936358864277\n",
      "test_MSE: 6.763129284944629 ; test_MAE: 1.959035073034051\n",
      "train_MSE: 0.28832457363304453 ; train_MAE: 0.3946934433346076\n",
      "test_MSE: 0.7460677699313799 ; test_MAE: 0.6843837046225297\n",
      "train_MSE: 0.07715585570866006 ; train_MAE: 0.19969810508412406\n",
      "test_MSE: 0.11474448459552167 ; test_MAE: 0.27526121739967685\n",
      "train_MSE: 0.01727895838662443 ; train_MAE: 0.09595074721935326\n",
      "test_MSE: 0.08718954312565429 ; test_MAE: 0.1899618777990102\n",
      "train_MSE: 0.003164200068859931 ; train_MAE: 0.033791682912577704\n",
      "test_MSE: 0.03799170512186763 ; test_MAE: 0.15187259727995403\n",
      "train_MSE: 0.015399811953771304 ; train_MAE: 0.0898071685164107\n",
      "test_MSE: 0.038903488011594975 ; test_MAE: 0.1483982989762179\n",
      "train_MSE: 0.13320978437774475 ; train_MAE: 0.24325406097804833\n",
      "test_MSE: 0.5152542904423238 ; test_MAE: 0.564178717618913\n",
      "train_MSE: 3.359610036745104 ; train_MAE: 1.3912760422121355\n",
      "test_MSE: 11.92390000311696 ; test_MAE: 2.6470732556595507\n",
      "train_MSE: 0.005580631320954851 ; train_MAE: 0.05703223128063537\n",
      "test_MSE: 0.03172038557632945 ; test_MAE: 0.13774509005738556\n",
      "train_MSE: 0.3086337501478558 ; train_MAE: 0.41633647803497387\n",
      "test_MSE: 0.5046186253989516 ; test_MAE: 0.5481243768124254\n",
      "train_MSE: 0.02223682112611315 ; train_MAE: 0.10400557428256507\n",
      "test_MSE: 0.04937600666609326 ; test_MAE: 0.16907641097240092\n",
      "train_MSE: 0.039348281261307676 ; train_MAE: 0.15069234946202512\n",
      "test_MSE: 0.10512998353338648 ; test_MAE: 0.2653010498973643\n",
      "train_MSE: 0.30461692081201563 ; train_MAE: 0.3949366777455535\n",
      "test_MSE: 1.6899496603134085 ; test_MAE: 1.052578952623189\n"
     ]
    }
   ],
   "source": [
    "obtain_MSE_MAE_SSA_CNN_LSTM_All(2)"
   ]
  }
 ],
 "metadata": {
  "kernelspec": {
   "display_name": "Python 3",
   "language": "python",
   "name": "python3"
  },
  "language_info": {
   "codemirror_mode": {
    "name": "ipython",
    "version": 3
   },
   "file_extension": ".py",
   "mimetype": "text/x-python",
   "name": "python",
   "nbconvert_exporter": "python",
   "pygments_lexer": "ipython3",
   "version": "3.10.11"
  },
  "orig_nbformat": 4
 },
 "nbformat": 4,
 "nbformat_minor": 2
}
