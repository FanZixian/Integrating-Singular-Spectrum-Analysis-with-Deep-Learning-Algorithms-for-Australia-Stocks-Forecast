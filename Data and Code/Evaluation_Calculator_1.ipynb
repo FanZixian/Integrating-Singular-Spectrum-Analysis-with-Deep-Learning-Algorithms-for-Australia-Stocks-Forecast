{
 "cells": [
  {
   "cell_type": "markdown",
   "metadata": {},
   "source": [
    "# This file is to calculate all the MSE/MAE values after denormalization, the store and compare them"
   ]
  },
  {
   "cell_type": "code",
   "execution_count": 26,
   "metadata": {},
   "outputs": [],
   "source": [
    "import os\n",
    "import pandas as pd\n",
    "import numpy as np\n",
    "import matplotlib.pyplot as plt\n",
    "import sys\n",
    "from sklearn.metrics import mean_squared_error, mean_absolute_error\n"
   ]
  },
  {
   "cell_type": "markdown",
   "metadata": {},
   "source": [
    "## Calculate result from CNN"
   ]
  },
  {
   "cell_type": "code",
   "execution_count": 27,
   "metadata": {},
   "outputs": [],
   "source": [
    "CNN_path = './Data/Prediction/CNN/'\n",
    "\n",
    "# stock_example = pd.read_csv(path + 'Data/Grouped/Consumer and Service Sectors/ALL.AX.csv')\n",
    "def read_stock(path, file_name):\n",
    "    stock = pd.read_csv(path + file_name, header = [0])\n",
    "    stock_index = pd.to_datetime(stock['Date'])\n",
    "    stock.index = stock_index\n",
    "    stock = stock.drop('Date', axis = 1)\n",
    "    return stock\n",
    "group = ['Consumer and Service Sectors', 'Financial, Healthcare, Technology, and Utilities Sectors', 'Industrial and Infrastructure Sectors']\n",
    "index = [0, 1, 2]\n",
    "def read_all(the_path):\n",
    "    All_df = []\n",
    "    files = [f for f in os.listdir(the_path) if f.endswith('.csv')]\n",
    "\n",
    "    for name in files:\n",
    "        stock = read_stock(the_path + '/', name)\n",
    "        All_df.append(stock)\n",
    "    return All_df, files\n",
    "\n",
    "CNN_All_df_0, CNN_files_0 = read_all(CNN_path + group[index[0]])"
   ]
  },
  {
   "cell_type": "code",
   "execution_count": 28,
   "metadata": {},
   "outputs": [],
   "source": [
    "stock_example = CNN_All_df_0[0]"
   ]
  },
  {
   "cell_type": "code",
   "execution_count": 29,
   "metadata": {},
   "outputs": [],
   "source": [
    "def obtain_MSE_MAE_CNN(stock_result):\n",
    "    length = len(stock_result)\n",
    "    train_length = length - 252\n",
    "    test_length = 252\n",
    "    stock_train = stock_result[ :train_length]\n",
    "    stock_test = stock_result[train_length: ]\n",
    "    train_MSE = mean_squared_error(stock_train.iloc[:, 0], stock_train.iloc[:, 1])\n",
    "    train_MAE = mean_absolute_error(stock_train.iloc[:, 0], stock_train.iloc[:, 1])\n",
    "    test_MSE = mean_squared_error(stock_test.iloc[:, 0], stock_test.iloc[:, 1])\n",
    "    test_MAE = mean_absolute_error(stock_test.iloc[:, 0], stock_test.iloc[:, 1])\n",
    "\n",
    "    print('train_MSE:', train_MSE, '; train_MAE:', train_MAE)\n",
    "    print('test_MSE:', test_MSE, '; test_MAE:', test_MAE)\n",
    "\n",
    "    return train_MSE, train_MAE, test_MSE, test_MAE"
   ]
  },
  {
   "cell_type": "code",
   "execution_count": 30,
   "metadata": {},
   "outputs": [
    {
     "name": "stdout",
     "output_type": "stream",
     "text": [
      "train_MSE: 2.7424938653869573 ; train_MAE: 1.2433112462290412\n",
      "test_MSE: 0.6463609202012328 ; test_MAE: 0.6432877544669373\n"
     ]
    }
   ],
   "source": [
    "train_MSE, train_MAE, test_MSE, test_MAE = obtain_MSE_MAE_CNN(stock_example)"
   ]
  },
  {
   "cell_type": "code",
   "execution_count": 31,
   "metadata": {},
   "outputs": [],
   "source": [
    "def obtain_MSE_MAE_CNN_All(the_index):\n",
    "    CNN_All_df, CNN_files = read_all(CNN_path + group[index[the_index]])\n",
    "    length = len(CNN_All_df)\n",
    "    store_path = './Data/MAE_MSE/0.9997/63/CNN/'\n",
    "    stock_index_name = []\n",
    "    for i in range(length):\n",
    "        stock_index_name.append(CNN_files[i][:-4])\n",
    "\n",
    "    metric_columns = ['train_MSE', 'train_MAE', 'test_MSE', 'test_MAE']\n",
    "    result_df = pd.DataFrame(0, index = stock_index_name, columns = metric_columns)\n",
    "\n",
    "    for i in range(length):\n",
    "        stock = CNN_All_df[i]\n",
    "        train_MSE, train_MAE, test_MSE, test_MAE = obtain_MSE_MAE_CNN(stock)\n",
    "        result_df.iloc[i, 0] = train_MSE\n",
    "        result_df.iloc[i, 1] = train_MAE\n",
    "        result_df.iloc[i, 2] = test_MSE\n",
    "        result_df.iloc[i, 3] = test_MAE\n",
    "    \n",
    "    result_df.to_csv(store_path + group[index[the_index]] + '.csv')"
   ]
  },
  {
   "cell_type": "code",
   "execution_count": 32,
   "metadata": {},
   "outputs": [
    {
     "name": "stdout",
     "output_type": "stream",
     "text": [
      "train_MSE: 2.7424938653869573 ; train_MAE: 1.2433112462290412\n",
      "test_MSE: 0.6463609202012328 ; test_MAE: 0.6432877544669373\n",
      "train_MSE: 64.28201277854333 ; train_MAE: 6.660214641807241\n",
      "test_MSE: 11.086018396748 ; test_MAE: 2.509225177293702\n",
      "train_MSE: 0.011448231627738543 ; train_MAE: 0.08707828730171141\n",
      "test_MSE: 0.0207335073604946 ; test_MAE: 0.1373219473584516\n",
      "train_MSE: 0.04086543236429301 ; train_MAE: 0.14260003734327353\n",
      "test_MSE: 0.04367288477188061 ; test_MAE: 0.17786719354238714\n",
      "train_MSE: 6.024346540565737 ; train_MAE: 2.0408164113653466\n",
      "test_MSE: 2.3730543476540173 ; test_MAE: 1.363712298757316\n",
      "train_MSE: 1.429099256477297 ; train_MAE: 0.9768823847781547\n",
      "test_MSE: 0.35559687697293085 ; test_MAE: 0.48494596490935343\n"
     ]
    }
   ],
   "source": [
    "obtain_MSE_MAE_CNN_All(0)"
   ]
  },
  {
   "cell_type": "code",
   "execution_count": 33,
   "metadata": {},
   "outputs": [
    {
     "name": "stdout",
     "output_type": "stream",
     "text": [
      "train_MSE: 0.7290456347449523 ; train_MAE: 0.6173241465746623\n",
      "test_MSE: 0.2161422775396783 ; test_MAE: 0.3818998608434109\n",
      "train_MSE: 0.04487273900790514 ; train_MAE: 0.1615156322535839\n",
      "test_MSE: 0.18542467993558331 ; test_MAE: 0.38229376935820514\n",
      "train_MSE: 6.4004748703286305 ; train_MAE: 1.9755963246342552\n",
      "test_MSE: 3.095239986850566 ; test_MAE: 1.384595614328448\n",
      "train_MSE: 13.215333931244167 ; train_MAE: 2.8896874525966547\n",
      "test_MSE: 36.19767049133426 ; test_MAE: 5.672183221635673\n",
      "train_MSE: 31.050744675277162 ; train_MAE: 4.285416284975742\n",
      "test_MSE: 20.034228351027085 ; test_MAE: 3.451108311006359\n",
      "train_MSE: 0.4203634504046729 ; train_MAE: 0.4515896217867165\n",
      "test_MSE: 1.985875840189452 ; test_MAE: 1.3354271800280777\n",
      "train_MSE: 129.6152565478666 ; train_MAE: 9.474318436543724\n",
      "test_MSE: 56.582086249186226 ; test_MAE: 6.4470165750554385\n",
      "train_MSE: 3.620462915615126 ; train_MAE: 1.7042296181222394\n",
      "test_MSE: 0.4206746296812038 ; test_MAE: 0.5234143149529379\n",
      "train_MSE: 1.3196300491505972 ; train_MAE: 0.9094879630305625\n",
      "test_MSE: 0.769403268163705 ; test_MAE: 0.7143153401125094\n",
      "train_MSE: 0.08286434451480434 ; train_MAE: 0.25385141656069954\n",
      "test_MSE: 0.05935099193990932 ; test_MAE: 0.21955539554669104\n",
      "train_MSE: 46.699181571799684 ; train_MAE: 4.917959124254314\n",
      "test_MSE: 97.77409926361422 ; test_MAE: 8.960074960235845\n",
      "train_MSE: 0.6948114866259114 ; train_MAE: 0.5989448441748494\n",
      "test_MSE: 2.7395039252642164 ; test_MAE: 1.5670258346094963\n",
      "train_MSE: 0.12379398763198277 ; train_MAE: 0.2764955994725664\n",
      "test_MSE: 0.3812627363099958 ; test_MAE: 0.5271990365820192\n",
      "train_MSE: 2.6218896184746994 ; train_MAE: 1.2481398200471527\n",
      "test_MSE: 4.202442663262755 ; test_MAE: 1.382845686725148\n",
      "train_MSE: 3.8250040348986256 ; train_MAE: 1.574191634726401\n",
      "test_MSE: 3.5294080029782746 ; test_MAE: 1.7213350278749602\n",
      "train_MSE: 0.015373867461895813 ; train_MAE: 0.09903462652875097\n",
      "test_MSE: 0.002210639101668346 ; test_MAE: 0.03654050937801428\n",
      "train_MSE: 0.015584741380473818 ; train_MAE: 0.10136395807696848\n",
      "test_MSE: 0.004205446795223939 ; test_MAE: 0.049949825408843296\n",
      "train_MSE: 2.4236324245883467 ; train_MAE: 1.246856577828694\n",
      "test_MSE: 0.9385666210637555 ; test_MAE: 0.7500618619574849\n",
      "train_MSE: 0.11735141724684583 ; train_MAE: 0.26661512743641735\n",
      "test_MSE: 0.07194899449672996 ; test_MAE: 0.2094994468865801\n",
      "train_MSE: 0.5429993263243295 ; train_MAE: 0.5348910526452846\n",
      "test_MSE: 0.15178772726246542 ; test_MAE: 0.3259935083012599\n",
      "train_MSE: 7.952424592455215 ; train_MAE: 1.9714556606286233\n",
      "test_MSE: 31.245556719573237 ; test_MAE: 5.080674215705858\n",
      "train_MSE: 94.58281206820229 ; train_MAE: 8.180461871145182\n",
      "test_MSE: 9.721324510700212 ; test_MAE: 2.481533240043665\n"
     ]
    }
   ],
   "source": [
    "obtain_MSE_MAE_CNN_All(1)"
   ]
  },
  {
   "cell_type": "code",
   "execution_count": 34,
   "metadata": {},
   "outputs": [
    {
     "name": "stdout",
     "output_type": "stream",
     "text": [
      "train_MSE: 0.053302304161479686 ; train_MAE: 0.17667880244108558\n",
      "test_MSE: 0.018893643801970623 ; test_MAE: 0.10662237515436872\n",
      "train_MSE: 2.291992695402951 ; train_MAE: 1.1700073831432343\n",
      "test_MSE: 6.376698226296525 ; test_MAE: 2.174080601382997\n",
      "train_MSE: 0.047904333744678215 ; train_MAE: 0.16559523824664615\n",
      "test_MSE: 0.09084189025999735 ; test_MAE: 0.236797322692236\n",
      "train_MSE: 2.022266198329051 ; train_MAE: 1.2185920043853176\n",
      "test_MSE: 4.841345362750406 ; test_MAE: 2.0514863203701674\n",
      "train_MSE: 0.3327170387792108 ; train_MAE: 0.40678521233590603\n",
      "test_MSE: 2.6049000231477764 ; test_MAE: 1.5030283888173663\n",
      "train_MSE: 10.184218511474278 ; train_MAE: 2.5674970991921366\n",
      "test_MSE: 1.6495837757257217 ; test_MAE: 0.9600498264423147\n",
      "train_MSE: 13.103792303964862 ; train_MAE: 2.9985399885910495\n",
      "test_MSE: 115.48695059809698 ; test_MAE: 9.970500298133203\n",
      "train_MSE: 1.0846610264609085 ; train_MAE: 0.8131446541611916\n",
      "test_MSE: 1.5828219859640085 ; test_MAE: 1.0204732538880619\n",
      "train_MSE: 0.39495433856549134 ; train_MAE: 0.4910645738920391\n",
      "test_MSE: 0.24410351460235974 ; test_MAE: 0.4124683009687452\n",
      "train_MSE: 0.09271671320895591 ; train_MAE: 0.24922684981591772\n",
      "test_MSE: 0.09882050638791509 ; test_MAE: 0.22673231015777578\n",
      "train_MSE: 0.043319135346313035 ; train_MAE: 0.14652971028707593\n",
      "test_MSE: 0.4455698417606204 ; test_MAE: 0.6027894090658485\n",
      "train_MSE: 0.04510996196390764 ; train_MAE: 0.15795224120206985\n",
      "test_MSE: 0.04608304417675825 ; test_MAE: 0.1756920473372919\n",
      "train_MSE: 1.5644759927461565 ; train_MAE: 0.9663316503140195\n",
      "test_MSE: 0.19896012589547657 ; test_MAE: 0.36804878302463373\n",
      "train_MSE: 15.600118767736667 ; train_MAE: 3.0633884881592612\n",
      "test_MSE: 21.18563545400445 ; test_MAE: 3.6932342887381573\n",
      "train_MSE: 0.025737487623172163 ; train_MAE: 0.11978955773136071\n",
      "test_MSE: 0.06651890843244099 ; test_MAE: 0.2228519502428521\n",
      "train_MSE: 1.5266451883547174 ; train_MAE: 0.9933916969797701\n",
      "test_MSE: 0.42276078421771335 ; test_MAE: 0.5466850567461475\n",
      "train_MSE: 0.05120773029558402 ; train_MAE: 0.1668880777460132\n",
      "test_MSE: 0.07034226692537 ; test_MAE: 0.22452227311425682\n",
      "train_MSE: 0.13205425383133992 ; train_MAE: 0.2846349317855855\n",
      "test_MSE: 0.06815831125064215 ; test_MAE: 0.22694497670508382\n",
      "train_MSE: 1.2926240938595672 ; train_MAE: 0.9530465302020065\n",
      "test_MSE: 4.774520226106804 ; test_MAE: 1.9717924105200266\n"
     ]
    }
   ],
   "source": [
    "obtain_MSE_MAE_CNN_All(2)"
   ]
  },
  {
   "cell_type": "markdown",
   "metadata": {},
   "source": [
    "## Calculate result from SSA-CNN"
   ]
  },
  {
   "cell_type": "code",
   "execution_count": 35,
   "metadata": {},
   "outputs": [],
   "source": [
    "SSA_CNN_path = './Data/Parameter_tuning_0.9997/63_Prediction/SSA-CNN/'\n",
    "\n",
    "# stock_example = pd.read_csv(path + 'Data/Grouped/Consumer and Service Sectors/ALL.AX.csv')\n",
    "def read_stock(path, file_name):\n",
    "    stock = pd.read_csv(path + file_name, header = [0])\n",
    "    stock_index = pd.to_datetime(stock['Date'])\n",
    "    stock.index = stock_index\n",
    "    stock = stock.drop('Date', axis = 1)\n",
    "    return stock\n",
    "group = ['Consumer and Service Sectors', 'Financial, Healthcare, Technology, and Utilities Sectors', 'Industrial and Infrastructure Sectors']\n",
    "index = [0, 1, 2]\n",
    "def read_all(the_path):\n",
    "    All_df = []\n",
    "    files = [f for f in os.listdir(the_path) if f.endswith('.csv')]\n",
    "\n",
    "    for name in files:\n",
    "        stock = read_stock(the_path + '/', name)\n",
    "        All_df.append(stock)\n",
    "    return All_df, files\n",
    "\n",
    "SSA_CNN_All_df_0, SSA_CNN_files_0 = read_all(SSA_CNN_path + group[index[0]])"
   ]
  },
  {
   "cell_type": "code",
   "execution_count": 36,
   "metadata": {},
   "outputs": [],
   "source": [
    "stock_example = SSA_CNN_All_df_0[0]"
   ]
  },
  {
   "cell_type": "code",
   "execution_count": 37,
   "metadata": {},
   "outputs": [],
   "source": [
    "def obtain_MSE_MAE_SSA_CNN(stock_result):\n",
    "    length = len(stock_result)\n",
    "    train_length = length - 252\n",
    "    test_length = 252\n",
    "    stock_train = stock_result[ :train_length]\n",
    "    stock_test = stock_result[train_length: ]\n",
    "    train_MSE = mean_squared_error(stock_train.iloc[:, 0], stock_train.iloc[:, 2])\n",
    "    train_MAE = mean_absolute_error(stock_train.iloc[:, 0], stock_train.iloc[:, 2])\n",
    "    test_MSE = mean_squared_error(stock_test.iloc[:, 0], stock_test.iloc[:, 2])\n",
    "    test_MAE = mean_absolute_error(stock_test.iloc[:, 0], stock_test.iloc[:, 2])\n",
    "\n",
    "    print('train_MSE:', train_MSE, '; train_MAE:', train_MAE)\n",
    "    print('test_MSE:', test_MSE, '; test_MAE:', test_MAE)\n",
    "\n",
    "    return train_MSE, train_MAE, test_MSE, test_MAE"
   ]
  },
  {
   "cell_type": "code",
   "execution_count": 38,
   "metadata": {},
   "outputs": [
    {
     "name": "stdout",
     "output_type": "stream",
     "text": [
      "train_MSE: 0.2760676661324753 ; train_MAE: 0.3859245523670411\n",
      "test_MSE: 0.5871824853594136 ; test_MAE: 0.58765628950049\n"
     ]
    }
   ],
   "source": [
    "train_MSE, train_MAE, test_MSE, test_MAE = obtain_MSE_MAE_SSA_CNN(stock_example)"
   ]
  },
  {
   "cell_type": "code",
   "execution_count": 39,
   "metadata": {},
   "outputs": [],
   "source": [
    "def obtain_MSE_MAE_SSA_CNN_All(the_index):\n",
    "    SSA_CNN_All_df, SSA_CNN_files = read_all(SSA_CNN_path + group[index[the_index]])\n",
    "    length = len(SSA_CNN_All_df)\n",
    "    store_path = './Data/MAE_MSE/0.9997/63/SSA-CNN/'\n",
    "    stock_index_name = []\n",
    "    for i in range(length):\n",
    "        stock_index_name.append(SSA_CNN_files[i][:-4])\n",
    "\n",
    "    metric_columns = ['train_MSE', 'train_MAE', 'test_MSE', 'test_MAE']\n",
    "    result_df = pd.DataFrame(0, index = stock_index_name, columns = metric_columns)\n",
    "\n",
    "    for i in range(length):\n",
    "        stock = SSA_CNN_All_df[i]\n",
    "        train_MSE, train_MAE, test_MSE, test_MAE = obtain_MSE_MAE_SSA_CNN(stock)\n",
    "        result_df.iloc[i, 0] = train_MSE\n",
    "        result_df.iloc[i, 1] = train_MAE\n",
    "        result_df.iloc[i, 2] = test_MSE\n",
    "        result_df.iloc[i, 3] = test_MAE\n",
    "    \n",
    "    result_df.to_csv(store_path + group[index[the_index]] + '.csv')"
   ]
  },
  {
   "cell_type": "code",
   "execution_count": 40,
   "metadata": {},
   "outputs": [
    {
     "name": "stdout",
     "output_type": "stream",
     "text": [
      "train_MSE: 0.2760676661324753 ; train_MAE: 0.3859245523670411\n",
      "test_MSE: 0.5871824853594136 ; test_MAE: 0.58765628950049\n",
      "train_MSE: 3.328421661202894 ; train_MAE: 1.3182675652081788\n",
      "test_MSE: 12.25172737206649 ; test_MAE: 2.66492320270729\n",
      "train_MSE: 0.0027522120734258812 ; train_MAE: 0.04010407524293198\n",
      "test_MSE: 0.002469082329804672 ; test_MAE: 0.040096521587792026\n",
      "train_MSE: 0.010224894634506817 ; train_MAE: 0.0678445088450283\n",
      "test_MSE: 0.011421127302346434 ; test_MAE: 0.07359624768423416\n",
      "train_MSE: 0.3881751410822023 ; train_MAE: 0.45756044676969926\n",
      "test_MSE: 1.182840009520205 ; test_MAE: 0.810479698019512\n",
      "train_MSE: 0.2566321124129744 ; train_MAE: 0.3531088819032134\n",
      "test_MSE: 0.36940210045921634 ; test_MAE: 0.4655538888113151\n"
     ]
    }
   ],
   "source": [
    "obtain_MSE_MAE_SSA_CNN_All(0)"
   ]
  },
  {
   "cell_type": "code",
   "execution_count": 41,
   "metadata": {},
   "outputs": [
    {
     "name": "stdout",
     "output_type": "stream",
     "text": [
      "train_MSE: 0.11455356326269653 ; train_MAE: 0.2559912514429115\n",
      "test_MSE: 0.33818805144845715 ; test_MAE: 0.4398176961404043\n",
      "train_MSE: 0.01951698643387423 ; train_MAE: 0.10309762081162181\n",
      "test_MSE: 0.04960460622475817 ; test_MAE: 0.17482175434192065\n",
      "train_MSE: 0.9847483985232861 ; train_MAE: 0.7417985218283729\n",
      "test_MSE: 2.3485342151223287 ; test_MAE: 1.208158409037345\n",
      "train_MSE: 1.2985482408112172 ; train_MAE: 0.843715885718008\n",
      "test_MSE: 5.400895086476095 ; test_MAE: 1.715469210265905\n",
      "train_MSE: 10.417378133276841 ; train_MAE: 2.3327851090771845\n",
      "test_MSE: 15.212129467103708 ; test_MAE: 2.927511925369871\n",
      "train_MSE: 0.05320856486089122 ; train_MAE: 0.1718266675240265\n",
      "test_MSE: 0.4382978354970336 ; test_MAE: 0.4761738593208088\n",
      "train_MSE: 16.229920165847634 ; train_MAE: 2.9583826538149305\n",
      "test_MSE: 19.563516780922562 ; test_MAE: 3.512818757428999\n",
      "train_MSE: 0.1423983428832217 ; train_MAE: 0.25847170077731013\n",
      "test_MSE: 0.2918044205552776 ; test_MAE: 0.44151666025793557\n",
      "train_MSE: 0.058799702003452116 ; train_MAE: 0.17289257487491255\n",
      "test_MSE: 0.3957728257365241 ; test_MAE: 0.4750658835917257\n",
      "train_MSE: 0.007476798481585322 ; train_MAE: 0.06637335286371919\n",
      "test_MSE: 0.007945948755265678 ; test_MAE: 0.07308959392508015\n",
      "train_MSE: 3.7559623357179 ; train_MAE: 1.4089635019198117\n",
      "test_MSE: 22.677755548371085 ; test_MAE: 3.508647543484974\n",
      "train_MSE: 0.11663991409669902 ; train_MAE: 0.2562178523670982\n",
      "test_MSE: 0.46704480458563075 ; test_MAE: 0.511717147061798\n",
      "train_MSE: 0.025747919608804685 ; train_MAE: 0.11816487888087804\n",
      "test_MSE: 0.07116417575007798 ; test_MAE: 0.20126446833140008\n",
      "train_MSE: 0.9063959723914602 ; train_MAE: 0.7071069927021923\n",
      "test_MSE: 5.215230936358586 ; test_MAE: 1.212489723868222\n",
      "train_MSE: 0.1527087776833757 ; train_MAE: 0.27412115961754985\n",
      "test_MSE: 0.4551939245960753 ; test_MAE: 0.5176426998102431\n",
      "train_MSE: 0.0020663768807876884 ; train_MAE: 0.03350359802354164\n",
      "test_MSE: 0.0037252385581371824 ; test_MAE: 0.04974639900274656\n",
      "train_MSE: 0.002718025654959929 ; train_MAE: 0.03741023706845588\n",
      "test_MSE: 0.004097552556919377 ; test_MAE: 0.049387512060421204\n",
      "train_MSE: 0.21782656867172437 ; train_MAE: 0.3348523875384572\n",
      "test_MSE: 0.8744400144111044 ; test_MAE: 0.7047035812706024\n",
      "train_MSE: 0.02548975986327666 ; train_MAE: 0.12177687777146694\n",
      "test_MSE: 0.058055600476356176 ; test_MAE: 0.18394657030695052\n",
      "train_MSE: 0.08744547330696288 ; train_MAE: 0.21597435516715563\n",
      "test_MSE: 0.23079143277948255 ; test_MAE: 0.3467617899180495\n",
      "train_MSE: 0.25822076786621867 ; train_MAE: 0.3494695140001113\n",
      "test_MSE: 4.158843282909809 ; test_MAE: 1.5842222248993874\n",
      "train_MSE: 2.6942486824229666 ; train_MAE: 1.1601787128705057\n",
      "test_MSE: 9.960799502667664 ; test_MAE: 2.4017101276288337\n"
     ]
    }
   ],
   "source": [
    "obtain_MSE_MAE_SSA_CNN_All(1)"
   ]
  },
  {
   "cell_type": "code",
   "execution_count": 42,
   "metadata": {},
   "outputs": [
    {
     "name": "stdout",
     "output_type": "stream",
     "text": [
      "train_MSE: 0.011287607696827743 ; train_MAE: 0.07451387263303537\n",
      "test_MSE: 0.014117141772355141 ; test_MAE: 0.09143193509134136\n",
      "train_MSE: 0.25836691441866483 ; train_MAE: 0.3694925361052371\n",
      "test_MSE: 1.1750989467935657 ; test_MAE: 0.838146621573489\n",
      "train_MSE: 0.021808448483568423 ; train_MAE: 0.10980551437518439\n",
      "test_MSE: 0.06965402379142212 ; test_MAE: 0.1955682213508069\n",
      "train_MSE: 0.03395801400751038 ; train_MAE: 0.12345541795117873\n",
      "test_MSE: 0.2673762934489589 ; test_MAE: 0.3995148774604317\n",
      "train_MSE: 0.011020527811823593 ; train_MAE: 0.07691506784606059\n",
      "test_MSE: 0.278273364446201 ; test_MAE: 0.40952957575739196\n",
      "train_MSE: 0.2697775848115993 ; train_MAE: 0.38124423192677076\n",
      "test_MSE: 1.265625141652969 ; test_MAE: 0.8553765985694997\n",
      "train_MSE: 0.28014288415927363 ; train_MAE: 0.3433736432639602\n",
      "test_MSE: 6.50649425173193 ; test_MAE: 2.008203817781151\n",
      "train_MSE: 0.15596034725968744 ; train_MAE: 0.2887737318373082\n",
      "test_MSE: 0.2841187572790855 ; test_MAE: 0.41464932319673353\n",
      "train_MSE: 0.02731691743291594 ; train_MAE: 0.11814568032336117\n",
      "test_MSE: 0.0814408153702485 ; test_MAE: 0.22309399359716012\n",
      "train_MSE: 0.008054328625179033 ; train_MAE: 0.06736436948459228\n",
      "test_MSE: 0.04890714122092739 ; test_MAE: 0.13065502413276528\n",
      "train_MSE: 0.000785453475828204 ; train_MAE: 0.017566425701214135\n",
      "test_MSE: 0.0415147305584931 ; test_MAE: 0.15675298290176362\n",
      "train_MSE: 0.0069110680913731775 ; train_MAE: 0.06334065180495686\n",
      "test_MSE: 0.020617490584491846 ; test_MAE: 0.11127430277144225\n",
      "train_MSE: 0.054987434658484054 ; train_MAE: 0.15853285081052976\n",
      "test_MSE: 0.21046986583558205 ; test_MAE: 0.36010612493600147\n",
      "train_MSE: 2.0173179867958173 ; train_MAE: 1.0455866671110783\n",
      "test_MSE: 6.6398048767020805 ; test_MAE: 2.0225534043345013\n",
      "train_MSE: 0.002145558563664672 ; train_MAE: 0.035148563337118924\n",
      "test_MSE: 0.01700656751781592 ; test_MAE: 0.1020988031656227\n",
      "train_MSE: 0.15412326466394768 ; train_MAE: 0.2828497243472939\n",
      "test_MSE: 0.1929983804719809 ; test_MAE: 0.3345037691414232\n",
      "train_MSE: 0.009751981644108067 ; train_MAE: 0.0722449331743841\n",
      "test_MSE: 0.025761114267203934 ; test_MAE: 0.12126734583107679\n",
      "train_MSE: 0.031427108291606894 ; train_MAE: 0.12315811549512558\n",
      "test_MSE: 0.04637015144007494 ; test_MAE: 0.17076940628192722\n",
      "train_MSE: 0.13416180001288186 ; train_MAE: 0.2745226226773013\n",
      "test_MSE: 0.9037962172687811 ; test_MAE: 0.7644780396461556\n"
     ]
    }
   ],
   "source": [
    "obtain_MSE_MAE_SSA_CNN_All(2)"
   ]
  },
  {
   "cell_type": "markdown",
   "metadata": {},
   "source": [
    "## Calculate result from SSA-LSTM"
   ]
  },
  {
   "cell_type": "code",
   "execution_count": 43,
   "metadata": {},
   "outputs": [],
   "source": [
    "SSA_LSTM_path = './Data/Parameter_tuning_0.9997/63_Prediction/SSA-LSTM/'\n",
    "\n",
    "def obtain_MSE_MAE_SSA_LSTM(stock_result):\n",
    "    length = len(stock_result)\n",
    "    train_length = length - 252\n",
    "    test_length = 252\n",
    "    stock_train = stock_result[ :train_length]\n",
    "    stock_test = stock_result[train_length: ]\n",
    "    train_MSE = mean_squared_error(stock_train.iloc[:, 0], stock_train.iloc[:, 2])\n",
    "    train_MAE = mean_absolute_error(stock_train.iloc[:, 0], stock_train.iloc[:, 2])\n",
    "    test_MSE = mean_squared_error(stock_test.iloc[:, 0], stock_test.iloc[:, 2])\n",
    "    test_MAE = mean_absolute_error(stock_test.iloc[:, 0], stock_test.iloc[:, 2])\n",
    "\n",
    "    print('train_MSE:', train_MSE, '; train_MAE:', train_MAE)\n",
    "    print('test_MSE:', test_MSE, '; test_MAE:', test_MAE)\n",
    "\n",
    "    return train_MSE, train_MAE, test_MSE, test_MAE\n",
    "\n",
    "def obtain_MSE_MAE_SSA_LSTM_All(the_index):\n",
    "    SSA_LSTM_All_df, SSA_LSTM_files = read_all(SSA_LSTM_path + group[index[the_index]])\n",
    "    length = len(SSA_LSTM_All_df)\n",
    "    store_path = './Data/MAE_MSE/0.9997/63/SSA-LSTM/'\n",
    "    stock_index_name = []\n",
    "    for i in range(length):\n",
    "        stock_index_name.append(SSA_LSTM_files[i][:-4])\n",
    "\n",
    "    metric_columns = ['train_MSE', 'train_MAE', 'test_MSE', 'test_MAE']\n",
    "    result_df = pd.DataFrame(0, index = stock_index_name, columns = metric_columns)\n",
    "\n",
    "    for i in range(length):\n",
    "        stock = SSA_LSTM_All_df[i]\n",
    "        train_MSE, train_MAE, test_MSE, test_MAE = obtain_MSE_MAE_SSA_LSTM(stock)\n",
    "        result_df.iloc[i, 0] = train_MSE\n",
    "        result_df.iloc[i, 1] = train_MAE\n",
    "        result_df.iloc[i, 2] = test_MSE\n",
    "        result_df.iloc[i, 3] = test_MAE\n",
    "    \n",
    "    result_df.to_csv(store_path + group[index[the_index]] + '.csv')"
   ]
  },
  {
   "cell_type": "code",
   "execution_count": 44,
   "metadata": {},
   "outputs": [
    {
     "name": "stdout",
     "output_type": "stream",
     "text": [
      "train_MSE: 0.4133279758940888 ; train_MAE: 0.4817785598182748\n",
      "test_MSE: 0.9762693478951688 ; test_MAE: 0.7440187642169118\n",
      "train_MSE: 5.514153353700095 ; train_MAE: 1.8088730380537097\n",
      "test_MSE: 23.057819146559567 ; test_MAE: 3.7005196787617725\n",
      "train_MSE: 0.0030712363269375597 ; train_MAE: 0.04291679273659915\n",
      "test_MSE: 0.002948652966852044 ; test_MAE: 0.043143373720895266\n",
      "train_MSE: 0.012804869068764846 ; train_MAE: 0.07784903508918438\n",
      "test_MSE: 0.01809596218886001 ; test_MAE: 0.10053939900795268\n",
      "train_MSE: 0.4783529953372955 ; train_MAE: 0.5382987036633782\n",
      "test_MSE: 1.6039036595878422 ; test_MAE: 0.9468851940227951\n",
      "train_MSE: 0.27149258046412217 ; train_MAE: 0.3704899879200211\n",
      "test_MSE: 0.4872896034454424 ; test_MAE: 0.5415370015802082\n"
     ]
    }
   ],
   "source": [
    "obtain_MSE_MAE_SSA_LSTM_All(0)"
   ]
  },
  {
   "cell_type": "code",
   "execution_count": 45,
   "metadata": {},
   "outputs": [
    {
     "name": "stdout",
     "output_type": "stream",
     "text": [
      "train_MSE: 0.14404367290239917 ; train_MAE: 0.2823695649782205\n",
      "test_MSE: 0.48421147122038183 ; test_MAE: 0.5052516177837953\n",
      "train_MSE: 0.021533105462403994 ; train_MAE: 0.1083199508266849\n",
      "test_MSE: 0.08555466820499812 ; test_MAE: 0.2266991516759162\n",
      "train_MSE: 1.1083079543116778 ; train_MAE: 0.8013074364741481\n",
      "test_MSE: 3.0838848193654824 ; test_MAE: 1.3680280521100867\n",
      "train_MSE: 1.5568199421382816 ; train_MAE: 0.9142483699270684\n",
      "test_MSE: 6.745483008634119 ; test_MAE: 1.9369793798895965\n",
      "train_MSE: 12.523978722514814 ; train_MAE: 2.6150370410309476\n",
      "test_MSE: 24.615906054562576 ; test_MAE: 3.7530330555769695\n",
      "train_MSE: 0.06760218003379671 ; train_MAE: 0.19023271667132713\n",
      "test_MSE: 0.5994354353415957 ; test_MAE: 0.5512492762261892\n",
      "train_MSE: 18.321577017314674 ; train_MAE: 3.175114801825678\n",
      "test_MSE: 25.362467108306376 ; test_MAE: 4.013463595382801\n",
      "train_MSE: 0.22165551952041002 ; train_MAE: 0.36501981041917836\n",
      "test_MSE: 0.7109849114698265 ; test_MAE: 0.6595749687984509\n",
      "train_MSE: 0.06847238397537925 ; train_MAE: 0.1915828939863483\n",
      "test_MSE: 0.564372692574102 ; test_MAE: 0.5629141251651123\n",
      "train_MSE: 0.0087512218470882 ; train_MAE: 0.07210162120778114\n",
      "test_MSE: 0.01034193001462048 ; test_MAE: 0.08249423362669278\n",
      "train_MSE: 4.436469758719348 ; train_MAE: 1.5203600601188094\n",
      "test_MSE: 30.68684199068141 ; test_MAE: 4.070065501529369\n",
      "train_MSE: 0.14669188793848184 ; train_MAE: 0.280145504782071\n",
      "test_MSE: 0.5953703779311686 ; test_MAE: 0.5718896918913235\n",
      "train_MSE: 0.038339096957828465 ; train_MAE: 0.13984695281616144\n",
      "test_MSE: 0.13704174901500987 ; test_MAE: 0.2795281181197728\n",
      "train_MSE: 1.021168824412346 ; train_MAE: 0.7474803052370635\n",
      "test_MSE: 7.481043387815891 ; test_MAE: 1.5535130428909079\n",
      "train_MSE: 0.1951725670177077 ; train_MAE: 0.32393262386868127\n",
      "test_MSE: 0.9161581428331982 ; test_MAE: 0.7490409394265218\n",
      "train_MSE: 0.002923316842155739 ; train_MAE: 0.03888094940694816\n",
      "test_MSE: 0.005334279690651645 ; test_MAE: 0.059022971768546956\n",
      "train_MSE: 0.004318767653949456 ; train_MAE: 0.04632634536065454\n",
      "test_MSE: 0.005878795050557258 ; test_MAE: 0.059213773345096234\n",
      "train_MSE: 0.2498556860114006 ; train_MAE: 0.36251131133640385\n",
      "test_MSE: 1.0252484200097531 ; test_MAE: 0.7712142951144616\n",
      "train_MSE: 0.032382535850569195 ; train_MAE: 0.13416777207773103\n",
      "test_MSE: 0.08478663435302869 ; test_MAE: 0.23747997411615465\n",
      "train_MSE: 0.11942250539516382 ; train_MAE: 0.2521878854798264\n",
      "test_MSE: 0.32946661596228066 ; test_MAE: 0.40987501668033766\n",
      "train_MSE: 0.45269214984469425 ; train_MAE: 0.49281052771818423\n",
      "test_MSE: 3.8028361925984435 ; test_MAE: 1.5106816036581001\n",
      "train_MSE: 4.047236493979873 ; train_MAE: 1.4434105373758066\n",
      "test_MSE: 16.424668957055783 ; test_MAE: 3.1912201451767803\n"
     ]
    }
   ],
   "source": [
    "obtain_MSE_MAE_SSA_LSTM_All(1)"
   ]
  },
  {
   "cell_type": "code",
   "execution_count": 46,
   "metadata": {},
   "outputs": [
    {
     "name": "stdout",
     "output_type": "stream",
     "text": [
      "train_MSE: 0.014840119434198532 ; train_MAE: 0.08516659953842047\n",
      "test_MSE: 0.020142191822708565 ; test_MAE: 0.1101684226909072\n",
      "train_MSE: 0.3276322013951275 ; train_MAE: 0.4167432824997081\n",
      "test_MSE: 2.1524408958794696 ; test_MAE: 1.1629526087883015\n",
      "train_MSE: 0.024579539406271503 ; train_MAE: 0.11822493668685038\n",
      "test_MSE: 0.12643247732586915 ; test_MAE: 0.2635810866971176\n",
      "train_MSE: 0.050614618290308847 ; train_MAE: 0.15967227064928566\n",
      "test_MSE: 0.36403097713913735 ; test_MAE: 0.4583820549409757\n",
      "train_MSE: 0.014795411886862134 ; train_MAE: 0.09240211922054542\n",
      "test_MSE: 0.3786513590947588 ; test_MAE: 0.4886818991161451\n",
      "train_MSE: 0.39280938674524546 ; train_MAE: 0.46413476205407933\n",
      "test_MSE: 2.205188569473703 ; test_MAE: 1.1520532302183313\n",
      "train_MSE: 0.5754837542655958 ; train_MAE: 0.5319126303544655\n",
      "test_MSE: 7.589271340796869 ; test_MAE: 2.166199936984895\n",
      "train_MSE: 0.20057745148436576 ; train_MAE: 0.33354654919090426\n",
      "test_MSE: 0.444176606265732 ; test_MAE: 0.5248903331154947\n",
      "train_MSE: 0.03546230631253115 ; train_MAE: 0.13976880702438138\n",
      "test_MSE: 0.10074082487046224 ; test_MAE: 0.24668508844496234\n",
      "train_MSE: 0.017539221755437012 ; train_MAE: 0.10456305987584005\n",
      "test_MSE: 0.10966390320930768 ; test_MAE: 0.24158562835062428\n",
      "train_MSE: 0.003005272915512837 ; train_MAE: 0.033839398996584426\n",
      "test_MSE: 0.04270924944298766 ; test_MAE: 0.15305136177840514\n",
      "train_MSE: 0.011829310813550153 ; train_MAE: 0.08007196700913179\n",
      "test_MSE: 0.033478985275307446 ; test_MAE: 0.1422934992928452\n",
      "train_MSE: 0.08377623957554761 ; train_MAE: 0.20770467857126731\n",
      "test_MSE: 0.4710386673182935 ; test_MAE: 0.5498565511351429\n",
      "train_MSE: 2.539563062543594 ; train_MAE: 1.1889062530817212\n",
      "test_MSE: 11.581597255325402 ; test_MAE: 2.7518859164245373\n",
      "train_MSE: 0.002882087965011583 ; train_MAE: 0.04126003748853661\n",
      "test_MSE: 0.03877534266185941 ; test_MAE: 0.14911109767352967\n",
      "train_MSE: 0.2069021372834403 ; train_MAE: 0.33728869882546647\n",
      "test_MSE: 0.3412623769388666 ; test_MAE: 0.4436624740906925\n",
      "train_MSE: 0.01572802161658564 ; train_MAE: 0.08981069768435501\n",
      "test_MSE: 0.04165843953582185 ; test_MAE: 0.1565273375289908\n",
      "train_MSE: 0.0388070885541465 ; train_MAE: 0.13311971828032743\n",
      "test_MSE: 0.07185646064523107 ; test_MAE: 0.2143959092183444\n",
      "train_MSE: 0.19946963084959893 ; train_MAE: 0.32728317835566695\n",
      "test_MSE: 1.8373824034572679 ; test_MAE: 1.103437083721725\n"
     ]
    }
   ],
   "source": [
    "obtain_MSE_MAE_SSA_LSTM_All(2)"
   ]
  },
  {
   "cell_type": "markdown",
   "metadata": {},
   "source": [
    "## Calculate result from SSA-CNN-LSTM"
   ]
  },
  {
   "cell_type": "code",
   "execution_count": 47,
   "metadata": {},
   "outputs": [],
   "source": [
    "SSA_CNN_LSTM_path = './Data/Parameter_tuning_0.9997/63_Prediction/SSA-CNN-LSTM/'\n",
    "\n",
    "def obtain_MSE_MAE_SSA_CNN_LSTM(stock_result):\n",
    "    length = len(stock_result)\n",
    "    train_length = length - 252\n",
    "    test_length = 252\n",
    "    stock_train = stock_result[ :train_length]\n",
    "    stock_test = stock_result[train_length: ]\n",
    "    train_MSE = mean_squared_error(stock_train.iloc[:, 0], stock_train.iloc[:, 2])\n",
    "    train_MAE = mean_absolute_error(stock_train.iloc[:, 0], stock_train.iloc[:, 2])\n",
    "    test_MSE = mean_squared_error(stock_test.iloc[:, 0], stock_test.iloc[:, 2])\n",
    "    test_MAE = mean_absolute_error(stock_test.iloc[:, 0], stock_test.iloc[:, 2])\n",
    "\n",
    "    print('train_MSE:', train_MSE, '; train_MAE:', train_MAE)\n",
    "    print('test_MSE:', test_MSE, '; test_MAE:', test_MAE)\n",
    "\n",
    "    return train_MSE, train_MAE, test_MSE, test_MAE\n",
    "\n",
    "def obtain_MSE_MAE_SSA_CNN_LSTM_All(the_index):\n",
    "    SSA_CNN_LSTM_All_df, SSA_CNN_LSTM_files = read_all(SSA_CNN_LSTM_path + group[index[the_index]])\n",
    "    length = len(SSA_CNN_LSTM_All_df)\n",
    "    store_path = './Data/MAE_MSE/0.9997/63/SSA-CNN-LSTM/'\n",
    "    stock_index_name = []\n",
    "    for i in range(length):\n",
    "        stock_index_name.append(SSA_CNN_LSTM_files[i][:-4])\n",
    "\n",
    "    metric_columns = ['train_MSE', 'train_MAE', 'test_MSE', 'test_MAE']\n",
    "    result_df = pd.DataFrame(0, index = stock_index_name, columns = metric_columns)\n",
    "\n",
    "    for i in range(length):\n",
    "        stock = SSA_CNN_LSTM_All_df[i]\n",
    "        train_MSE, train_MAE, test_MSE, test_MAE = obtain_MSE_MAE_SSA_CNN_LSTM(stock)\n",
    "        result_df.iloc[i, 0] = train_MSE\n",
    "        result_df.iloc[i, 1] = train_MAE\n",
    "        result_df.iloc[i, 2] = test_MSE\n",
    "        result_df.iloc[i, 3] = test_MAE\n",
    "    \n",
    "    result_df.to_csv(store_path + group[index[the_index]] + '.csv')"
   ]
  },
  {
   "cell_type": "code",
   "execution_count": 48,
   "metadata": {},
   "outputs": [
    {
     "name": "stdout",
     "output_type": "stream",
     "text": [
      "train_MSE: 0.3784794823264119 ; train_MAE: 0.4526313595068606\n",
      "test_MSE: 0.9917012023374286 ; test_MAE: 0.7725597175508038\n",
      "train_MSE: 5.231154239641981 ; train_MAE: 1.6915533634323903\n",
      "test_MSE: 18.941527558293526 ; test_MAE: 3.3459869546496197\n",
      "train_MSE: 0.0031838387291019195 ; train_MAE: 0.04316355182152878\n",
      "test_MSE: 0.00297311095239856 ; test_MAE: 0.04309376788532899\n",
      "train_MSE: 0.012276563034411589 ; train_MAE: 0.0749559315391096\n",
      "test_MSE: 0.016594288820412726 ; test_MAE: 0.091053039422183\n",
      "train_MSE: 0.5253545540018619 ; train_MAE: 0.5424881281186337\n",
      "test_MSE: 1.6522510629596039 ; test_MAE: 0.9660039054410081\n",
      "train_MSE: 0.2804205830034425 ; train_MAE: 0.3804732640465033\n",
      "test_MSE: 0.4255052175757021 ; test_MAE: 0.5032385485323149\n"
     ]
    }
   ],
   "source": [
    "obtain_MSE_MAE_SSA_CNN_LSTM_All(0)"
   ]
  },
  {
   "cell_type": "code",
   "execution_count": 49,
   "metadata": {},
   "outputs": [
    {
     "name": "stdout",
     "output_type": "stream",
     "text": [
      "train_MSE: 0.14159317930472184 ; train_MAE: 0.2823288158279339\n",
      "test_MSE: 0.43149919668811193 ; test_MAE: 0.47669027044716034\n",
      "train_MSE: 0.021454797812181316 ; train_MAE: 0.10791041512464634\n",
      "test_MSE: 0.12837736375332975 ; test_MAE: 0.28496870529094753\n",
      "train_MSE: 1.208376797521268 ; train_MAE: 0.8476293249724434\n",
      "test_MSE: 3.0731191379031593 ; test_MAE: 1.3840165449459099\n",
      "train_MSE: 1.6134178873562537 ; train_MAE: 0.917189901931537\n",
      "test_MSE: 5.654328645830441 ; test_MAE: 1.8576743100523594\n",
      "train_MSE: 11.714190953625609 ; train_MAE: 2.5120716568701846\n",
      "test_MSE: 18.99142149722147 ; test_MAE: 3.2693127936785182\n",
      "train_MSE: 0.06837863475652188 ; train_MAE: 0.19028618221118992\n",
      "test_MSE: 0.4782739789255241 ; test_MAE: 0.5009746446784741\n",
      "train_MSE: 19.239609661192095 ; train_MAE: 3.2813365822713196\n",
      "test_MSE: 21.728276205791342 ; test_MAE: 3.7264107033718425\n",
      "train_MSE: 0.2699184111462495 ; train_MAE: 0.4013936252491363\n",
      "test_MSE: 0.5579344022210725 ; test_MAE: 0.5872190078840361\n",
      "train_MSE: 0.08907388812059756 ; train_MAE: 0.2316960421581123\n",
      "test_MSE: 0.5157485114702592 ; test_MAE: 0.5432325939352977\n",
      "train_MSE: 0.009386688380510608 ; train_MAE: 0.07602758451548285\n",
      "test_MSE: 0.012545649203954026 ; test_MAE: 0.0898955235717669\n",
      "train_MSE: 4.787175399724003 ; train_MAE: 1.5716284457218574\n",
      "test_MSE: 22.833428662572018 ; test_MAE: 3.588222692452061\n",
      "train_MSE: 0.14055648263673667 ; train_MAE: 0.28293168456869094\n",
      "test_MSE: 0.5006130560113233 ; test_MAE: 0.5286738865878587\n",
      "train_MSE: 0.03426967295879809 ; train_MAE: 0.13433096414465334\n",
      "test_MSE: 0.1102853949256307 ; test_MAE: 0.25073590996361506\n",
      "train_MSE: 1.0247072173733613 ; train_MAE: 0.7590577719707504\n",
      "test_MSE: 5.97016269676715 ; test_MAE: 1.3593141807312594\n",
      "train_MSE: 0.20122454307305368 ; train_MAE: 0.3315373305142602\n",
      "test_MSE: 1.0554215966281824 ; test_MAE: 0.8312119625038018\n",
      "train_MSE: 0.0028369341474055293 ; train_MAE: 0.0382475633639516\n",
      "test_MSE: 0.004156084615479591 ; test_MAE: 0.05234801623430007\n",
      "train_MSE: 0.0037746301927899842 ; train_MAE: 0.04248973515038278\n",
      "test_MSE: 0.005074794843237902 ; test_MAE: 0.054818412821852354\n",
      "train_MSE: 0.27691580658821585 ; train_MAE: 0.3864064139021992\n",
      "test_MSE: 1.0746312229199502 ; test_MAE: 0.788075954653492\n",
      "train_MSE: 0.030708989751808975 ; train_MAE: 0.13236865703753617\n",
      "test_MSE: 0.06593090109609398 ; test_MAE: 0.20280008794524756\n",
      "train_MSE: 0.11361941358965652 ; train_MAE: 0.2457191276679357\n",
      "test_MSE: 0.2667661078968309 ; test_MAE: 0.3740390926564901\n",
      "train_MSE: 0.6094325752108155 ; train_MAE: 0.5543790298579685\n",
      "test_MSE: 3.6849107754989787 ; test_MAE: 1.462453036630284\n",
      "train_MSE: 5.313557336296932 ; train_MAE: 1.7096310898383862\n",
      "test_MSE: 11.890554732876621 ; test_MAE: 2.622930981974654\n"
     ]
    }
   ],
   "source": [
    "obtain_MSE_MAE_SSA_CNN_LSTM_All(1)"
   ]
  },
  {
   "cell_type": "code",
   "execution_count": 50,
   "metadata": {},
   "outputs": [
    {
     "name": "stdout",
     "output_type": "stream",
     "text": [
      "train_MSE: 0.014140953448140465 ; train_MAE: 0.08248596552196359\n",
      "test_MSE: 0.016740259351989552 ; test_MAE: 0.1019545568743927\n",
      "train_MSE: 0.33648520683154487 ; train_MAE: 0.419944429720121\n",
      "test_MSE: 1.6297290387585257 ; test_MAE: 1.0472796739307495\n",
      "train_MSE: 0.025051894521010455 ; train_MAE: 0.11849564520961638\n",
      "test_MSE: 0.12255570584704618 ; test_MAE: 0.2605737551237637\n",
      "train_MSE: 0.07943447060006167 ; train_MAE: 0.21878762466130272\n",
      "test_MSE: 0.4265175611407847 ; test_MAE: 0.4965341830456873\n",
      "train_MSE: 0.017187664931129516 ; train_MAE: 0.09501472951581284\n",
      "test_MSE: 0.29226963833854097 ; test_MAE: 0.4308836030140207\n",
      "train_MSE: 0.47993881807552446 ; train_MAE: 0.5130254580426815\n",
      "test_MSE: 1.6158224568813548 ; test_MAE: 0.9964978620969644\n",
      "train_MSE: 0.7336469027554462 ; train_MAE: 0.6038986824251765\n",
      "test_MSE: 15.983593500255203 ; test_MAE: 3.214775907283182\n",
      "train_MSE: 0.20500358557221968 ; train_MAE: 0.3322955118353189\n",
      "test_MSE: 0.48680024107202363 ; test_MAE: 0.5420786500777722\n",
      "train_MSE: 0.05594077471357321 ; train_MAE: 0.16977576460971933\n",
      "test_MSE: 0.08922670008153362 ; test_MAE: 0.2423204953743693\n",
      "train_MSE: 0.011086162992913122 ; train_MAE: 0.07896115702832208\n",
      "test_MSE: 0.07337269629655349 ; test_MAE: 0.17975665161545618\n",
      "train_MSE: 0.002124925682828649 ; train_MAE: 0.027829069267100118\n",
      "test_MSE: 0.037083410053263106 ; test_MAE: 0.14598175349327305\n",
      "train_MSE: 0.009898608651579618 ; train_MAE: 0.07473083464471462\n",
      "test_MSE: 0.028450019916840846 ; test_MAE: 0.13125913177576629\n",
      "train_MSE: 0.09416219843409514 ; train_MAE: 0.20998763177712892\n",
      "test_MSE: 0.29593303522815617 ; test_MAE: 0.42770261147267485\n",
      "train_MSE: 2.5782942730800653 ; train_MAE: 1.2145346493843645\n",
      "test_MSE: 10.293956925496213 ; test_MAE: 2.5833470366240734\n",
      "train_MSE: 0.0033106439480203452 ; train_MAE: 0.04345255733176638\n",
      "test_MSE: 0.025427197626892745 ; test_MAE: 0.12399903237933523\n",
      "train_MSE: 0.22328147704851878 ; train_MAE: 0.3449683849768917\n",
      "test_MSE: 0.2880359400239407 ; test_MAE: 0.4000524857978132\n",
      "train_MSE: 0.013413641153573864 ; train_MAE: 0.08437165226663611\n",
      "test_MSE: 0.0330789387259577 ; test_MAE: 0.14279439532763208\n",
      "train_MSE: 0.0378101860748275 ; train_MAE: 0.13591309353635495\n",
      "test_MSE: 0.05727220809433159 ; test_MAE: 0.193328791028919\n",
      "train_MSE: 0.19607973840684473 ; train_MAE: 0.32432722436709205\n",
      "test_MSE: 1.4083477139964 ; test_MAE: 0.9568446815637797\n"
     ]
    }
   ],
   "source": [
    "obtain_MSE_MAE_SSA_CNN_LSTM_All(2)"
   ]
  }
 ],
 "metadata": {
  "kernelspec": {
   "display_name": "tf",
   "language": "python",
   "name": "python3"
  },
  "language_info": {
   "codemirror_mode": {
    "name": "ipython",
    "version": 3
   },
   "file_extension": ".py",
   "mimetype": "text/x-python",
   "name": "python",
   "nbconvert_exporter": "python",
   "pygments_lexer": "ipython3",
   "version": "3.10.11"
  },
  "orig_nbformat": 4
 },
 "nbformat": 4,
 "nbformat_minor": 2
}
