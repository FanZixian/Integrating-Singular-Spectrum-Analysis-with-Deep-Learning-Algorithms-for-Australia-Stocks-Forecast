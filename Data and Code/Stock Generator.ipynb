{
 "cells": [
  {
   "cell_type": "code",
   "execution_count": 1,
   "metadata": {},
   "outputs": [],
   "source": [
    "import pandas as pd\n",
    "import numpy as np\n",
    "import os"
   ]
  },
  {
   "cell_type": "code",
   "execution_count": 2,
   "metadata": {},
   "outputs": [],
   "source": [
    "path = './Data/'\n",
    "start_date = '2018-04-12'"
   ]
  },
  {
   "cell_type": "code",
   "execution_count": 3,
   "metadata": {},
   "outputs": [],
   "source": [
    "company_name = pd.read_csv(path + 'Company Group.csv', header = [0])\n",
    "company_code = company_name['Company Code on Yahoo Finance'].values.tolist()\n",
    "directory = path + 'ASX_stockconsidering/'\n",
    "Group_dict = []\n",
    "for i in company_name['Group'].values.tolist():\n",
    "    if i not in Group_dict:\n",
    "        Group_dict.append(i)"
   ]
  },
  {
   "cell_type": "code",
   "execution_count": 4,
   "metadata": {},
   "outputs": [
    {
     "name": "stdout",
     "output_type": "stream",
     "text": [
      "NA show\n",
      "NA show\n"
     ]
    }
   ],
   "source": [
    "def read_stock(file_name, directory = directory):\n",
    "    stock = pd.read_csv(directory + file_name, header = [0])\n",
    "    index = pd.to_datetime(stock['Date'])\n",
    "    stock.drop('Date', axis = 1)\n",
    "    stock.index = index\n",
    "    # To predict the Adjusted Close Price of the Stock\n",
    "    stock = stock[['Adj Close']]\n",
    "    return stock\n",
    "\n",
    "def read_stockfiles(path = directory):\n",
    "    All_df = []\n",
    "    files = [f for f in os.listdir(path) if f.endswith('.csv')]\n",
    "    delete_list = []\n",
    "    for i in company_code:\n",
    "        if (i + '.csv' not in files):\n",
    "            delete_list.append(i)\n",
    "    for i in delete_list:\n",
    "        company_code.remove(i)\n",
    "    \n",
    "    for name in files:\n",
    "        stock = read_stock(name)\n",
    "        if (stock.isna().any().any()):\n",
    "            print(\"NA show\")\n",
    "            stock = stock.fillna(method = 'ffill')\n",
    "        All_df.append(stock[start_date:])\n",
    "    return All_df, files\n",
    "\n",
    "All_stocks, files = read_stockfiles()"
   ]
  },
  {
   "cell_type": "code",
   "execution_count": 5,
   "metadata": {},
   "outputs": [],
   "source": [
    "# Create the directories\n",
    "for directory_name in Group_dict:\n",
    "    os.makedirs(path + 'Grouped/' + directory_name, exist_ok=True)"
   ]
  },
  {
   "cell_type": "code",
   "execution_count": 6,
   "metadata": {},
   "outputs": [],
   "source": [
    "for stock in range(len(All_stocks)):\n",
    "    stock_name = files[stock]\n",
    "    stock_name = stock_name.replace('.csv', \"\")\n",
    "    pos = company_name.loc[company_name['Company Code on Yahoo Finance'] == stock_name].index[0]\n",
    "    group = company_name.loc[pos, 'Group']\n",
    "    the_stock = All_stocks[stock]\n",
    "    the_stock.to_csv(path + 'Grouped/' + group + '/' + stock_name + '.csv')"
   ]
  }
 ],
 "metadata": {
  "kernelspec": {
   "display_name": "pt-gpu",
   "language": "python",
   "name": "python3"
  },
  "language_info": {
   "codemirror_mode": {
    "name": "ipython",
    "version": 3
   },
   "file_extension": ".py",
   "mimetype": "text/x-python",
   "name": "python",
   "nbconvert_exporter": "python",
   "pygments_lexer": "ipython3",
   "version": "3.8.16"
  },
  "orig_nbformat": 4
 },
 "nbformat": 4,
 "nbformat_minor": 2
}
