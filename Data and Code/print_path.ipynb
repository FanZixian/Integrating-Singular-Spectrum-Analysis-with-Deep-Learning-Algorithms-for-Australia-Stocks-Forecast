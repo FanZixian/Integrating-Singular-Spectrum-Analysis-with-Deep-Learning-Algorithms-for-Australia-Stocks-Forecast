{
 "cells": [
  {
   "cell_type": "code",
   "execution_count": 1,
   "metadata": {},
   "outputs": [],
   "source": [
    "import os\n",
    "\n",
    "target_directory = './Data'\n",
    "\n",
    "with open('data_directory_structure.txt', 'w') as file:\n",
    "    \n",
    "    for root, dirs, files in os.walk(target_directory):\n",
    "        \n",
    "        file.write(f\"Current Directory: {root}\\n\")\n",
    "\n",
    "        \n",
    "        for dir_name in dirs:\n",
    "            dir_path = os.path.join(root, dir_name)\n",
    "            file.write(f\"Subdirectory: {dir_path}\\n\")\n",
    "\n",
    "        \n",
    "        for file_name in files:\n",
    "            file_path = os.path.join(root, file_name)\n",
    "            file.write(f\"File: {file_path}\\n\")\n"
   ]
  }
 ],
 "metadata": {
  "kernelspec": {
   "display_name": "pt-gpu",
   "language": "python",
   "name": "python3"
  },
  "language_info": {
   "codemirror_mode": {
    "name": "ipython",
    "version": 3
   },
   "file_extension": ".py",
   "mimetype": "text/x-python",
   "name": "python",
   "nbconvert_exporter": "python",
   "pygments_lexer": "ipython3",
   "version": "3.8.16"
  }
 },
 "nbformat": 4,
 "nbformat_minor": 2
}
